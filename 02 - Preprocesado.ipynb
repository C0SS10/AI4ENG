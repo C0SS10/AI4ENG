{
  "nbformat": 4,
  "nbformat_minor": 0,
  "metadata": {
    "colab": {
      "provenance": [],
      "authorship_tag": "ABX9TyMEL+uMTn3hF0xdEwIXE35l",
      "include_colab_link": true
    },
    "kernelspec": {
      "name": "python3",
      "display_name": "Python 3"
    },
    "language_info": {
      "name": "python"
    }
  },
  "cells": [
    {
      "cell_type": "markdown",
      "metadata": {
        "id": "view-in-github",
        "colab_type": "text"
      },
      "source": [
        "<a href=\"https://colab.research.google.com/github/E-CG/AI4ENG/blob/master/02%20-%20Preprocesado.ipynb\" target=\"_parent\"><img src=\"https://colab.research.google.com/assets/colab-badge.svg\" alt=\"Open In Colab\"/></a>"
      ]
    },
    {
      "cell_type": "markdown",
      "source": [
        "# **📦 Librerias y paquetes para la ejecución del notebook.**"
      ],
      "metadata": {
        "id": "SQMZNxAKf-DG"
      }
    },
    {
      "cell_type": "code",
      "source": [
        "! pip install py7zr"
      ],
      "metadata": {
        "id": "LIrDDyQt4B4c"
      },
      "execution_count": null,
      "outputs": []
    },
    {
      "cell_type": "code",
      "source": [
        "# Montar Google Drive\n",
        "from google.colab import drive\n",
        "drive.mount('/content/drive')"
      ],
      "metadata": {
        "id": "sjCzU3AA4EGH"
      },
      "execution_count": null,
      "outputs": []
    },
    {
      "cell_type": "code",
      "source": [
        "! pip install kaggle"
      ],
      "metadata": {
        "id": "c3cp8sLH4Hhb"
      },
      "execution_count": null,
      "outputs": []
    },
    {
      "cell_type": "code",
      "source": [
        "! mkdir ~/.kaggle\n",
        "# Aquí debes cambiar la dirección donde tengas tus credenciales de Kaggle\n",
        "! cp /content/drive/MyDrive/Modelos_I/credentials_kaggle/kaggle.json ~/.kaggle/kaggle.json"
      ],
      "metadata": {
        "id": "bnhCnURT4IRT"
      },
      "execution_count": null,
      "outputs": []
    },
    {
      "cell_type": "code",
      "source": [
        "! kaggle competitions download favorita-grocery-sales-forecasting\n",
        "! unzip favorita-grocery-sales-forecasting.zip"
      ],
      "metadata": {
        "id": "k3V3m-V34IGr"
      },
      "execution_count": null,
      "outputs": []
    },
    {
      "cell_type": "code",
      "execution_count": 1,
      "metadata": {
        "id": "W3Q7y5Uyredt"
      },
      "outputs": [],
      "source": [
        "# Librerias uso básico\n",
        "import numpy as np\n",
        "import pandas as pd\n",
        "import math as m\n",
        "import time\n",
        "import py7zr\n",
        "import os\n",
        "from subprocess import check_output\n",
        "\n",
        "# Librerias preprocesado\n",
        "from mlxtend.preprocessing import minmax_scaling\n",
        "\n",
        "# Librerias para gráficar\n",
        "import seaborn as sns\n",
        "import matplotlib.pyplot as plt\n",
        "\n",
        "# Funciones de sklearn\n",
        "from sklearn.compose import ColumnTransformer\n",
        "from sklearn.pipeline import Pipeline, make_pipeline\n",
        "from sklearn.impute import SimpleImputer\n",
        "from sklearn.preprocessing import OneHotEncoder, StandardScaler\n",
        "from sklearn.tree import DecisionTreeRegressor\n",
        "from sklearn.base import BaseEstimator, TransformerMixin\n",
        "from sklearn.model_selection import train_test_split, GridSearchCV\n",
        "from sklearn.linear_model import LinearRegression,ElasticNet,Ridge,Lasso\n",
        "from sklearn.svm import SVC\n",
        "from sklearn import linear_model\n",
        "from sklearn.ensemble import RandomForestRegressor\n",
        "from sklearn.metrics import mean_squared_error,mean_absolute_error"
      ]
    },
    {
      "cell_type": "markdown",
      "source": [
        "# **🗂️Leyendo y extrayendo los archivos .csv**"
      ],
      "metadata": {
        "id": "47YvvSlDf_V1"
      }
    },
    {
      "cell_type": "code",
      "source": [
        "# Ruta al archivo 7z en Google Drive\n",
        "sevenzip_file_path = '/content'\n",
        "\n",
        "# Directorio de destino para la extracción\n",
        "extracted_dir = '/content/extracted_data/'\n",
        "\n",
        "# Crear el directorio de destino si no existe\n",
        "os.makedirs(extracted_dir, exist_ok=True)\n",
        "\n",
        "# Listar los archivos .7z en el directorio de entrada\n",
        "files_to_extract = [file for file in os.listdir(sevenzip_file_path) if file.endswith('.7z')]\n",
        "\n",
        "# Iterar a través de los archivos y descomprimirlos\n",
        "for file_to_extract in files_to_extract:\n",
        "    with py7zr.SevenZipFile(os.path.join(sevenzip_file_path, file_to_extract), mode='r') as z:\n",
        "        z.extractall(path=extracted_dir)"
      ],
      "metadata": {
        "id": "BCCuI9R04NGr"
      },
      "execution_count": 7,
      "outputs": []
    },
    {
      "cell_type": "code",
      "source": [
        "stores = pd.read_csv('/content/extracted_data/stores.csv')\n",
        "items = pd.read_csv('/content/extracted_data/items.csv')\n",
        "holidays_e = pd.read_csv('/content/extracted_data/holidays_events.csv', parse_dates=[\"date\"])\n",
        "transactions = pd.read_csv('/content/extracted_data/transactions.csv', parse_dates=[\"date\"])\n",
        "oil = pd.read_csv('/content/extracted_data/oil.csv')\n",
        "\n",
        "# Cargar el archivo de entrenamiento en chunks\n",
        "chunked_dfs = pd.read_csv(\"/content/extracted_data/train.csv\",\n",
        "                          chunksize=20000,\n",
        "                          usecols=[1, 2, 3, 4, 5],\n",
        "                          parse_dates=['date'],\n",
        "                          low_memory=False)\n",
        "\n",
        "print('Archivos cargados 🗞️✅')"
      ],
      "metadata": {
        "id": "Q02HSAsN4Rrc",
        "colab": {
          "base_uri": "https://localhost:8080/"
        },
        "outputId": "2d64a372-f7c9-4aa0-91a1-8df29dc32418"
      },
      "execution_count": 2,
      "outputs": [
        {
          "output_type": "stream",
          "name": "stdout",
          "text": [
            "Archivos cargados 🗞️✅\n"
          ]
        }
      ]
    },
    {
      "cell_type": "markdown",
      "source": [
        "# **❌¿Qué archivos tienen datos nulos?**"
      ],
      "metadata": {
        "id": "Ya62btbjgNok"
      }
    },
    {
      "cell_type": "markdown",
      "source": [
        "🖊️ Se toma cada columna del dataframe en cuestion, se suman la cantidad de registros NaN y se convierte en un **porcentaje**. A cada columna se le saca tal porcentaje."
      ],
      "metadata": {
        "id": "pfodpXAhhVso"
      }
    },
    {
      "cell_type": "code",
      "source": [
        "oil_nan = (oil.isnull().sum() / oil.shape[0]) * 100\n",
        "oil_nan"
      ],
      "metadata": {
        "colab": {
          "base_uri": "https://localhost:8080/"
        },
        "id": "IeGTJKOAPc8T",
        "outputId": "46433aad-9053-4fa8-aaf3-265167139259"
      },
      "execution_count": null,
      "outputs": [
        {
          "output_type": "execute_result",
          "data": {
            "text/plain": [
              "date          0.000000\n",
              "dcoilwtico    3.530378\n",
              "dtype: float64"
            ]
          },
          "metadata": {},
          "execution_count": 10
        }
      ]
    },
    {
      "cell_type": "markdown",
      "source": [
        "Hay un 3.5% de datos faltantes en el archivo (oil.csv)"
      ],
      "metadata": {
        "id": "JWpoOz8FR04R"
      }
    },
    {
      "cell_type": "code",
      "source": [
        "store_nan = (stores.isnull().sum() / stores.shape[0]) * 100\n",
        "store_nan"
      ],
      "metadata": {
        "colab": {
          "base_uri": "https://localhost:8080/"
        },
        "id": "IfusvuMbR87_",
        "outputId": "35bbb8d6-e6b5-47bf-db3b-b81480f9ffb0"
      },
      "execution_count": null,
      "outputs": [
        {
          "output_type": "execute_result",
          "data": {
            "text/plain": [
              "store_nbr    0.0\n",
              "city         0.0\n",
              "state        0.0\n",
              "type         0.0\n",
              "cluster      0.0\n",
              "dtype: float64"
            ]
          },
          "metadata": {},
          "execution_count": 13
        }
      ]
    },
    {
      "cell_type": "markdown",
      "source": [
        "No hay datos faltantes en (stores.csv)"
      ],
      "metadata": {
        "id": "MMQexb4KhuFB"
      }
    },
    {
      "cell_type": "code",
      "source": [
        "item_nan = (items.isnull().sum() / items.shape[0]) * 100\n",
        "item_nan"
      ],
      "metadata": {
        "colab": {
          "base_uri": "https://localhost:8080/"
        },
        "id": "MrxJ-uYAVDPx",
        "outputId": "fc748161-6764-46a5-ef35-0f03da7f7460"
      },
      "execution_count": null,
      "outputs": [
        {
          "output_type": "execute_result",
          "data": {
            "text/plain": [
              "item_nbr      0.0\n",
              "family        0.0\n",
              "class         0.0\n",
              "perishable    0.0\n",
              "dtype: float64"
            ]
          },
          "metadata": {},
          "execution_count": 14
        }
      ]
    },
    {
      "cell_type": "markdown",
      "source": [
        "No hay datos faltantes en (items.csv)"
      ],
      "metadata": {
        "id": "iE8ySU4qhzH7"
      }
    },
    {
      "cell_type": "code",
      "source": [
        "holiday_nan = (holidays_e.isnull().sum() / holidays_e.shape[0]) * 100\n",
        "holiday_nan"
      ],
      "metadata": {
        "colab": {
          "base_uri": "https://localhost:8080/"
        },
        "id": "dXN_5LowiodF",
        "outputId": "da13621c-03fa-408b-9b4e-814418082997"
      },
      "execution_count": null,
      "outputs": [
        {
          "output_type": "execute_result",
          "data": {
            "text/plain": [
              "date           0.0\n",
              "type           0.0\n",
              "locale         0.0\n",
              "locale_name    0.0\n",
              "description    0.0\n",
              "transferred    0.0\n",
              "dtype: float64"
            ]
          },
          "metadata": {},
          "execution_count": 9
        }
      ]
    },
    {
      "cell_type": "markdown",
      "source": [
        "No hay datos nulo en el archivo (holidays_events.csv)"
      ],
      "metadata": {
        "id": "V-xEPFzKod73"
      }
    },
    {
      "cell_type": "code",
      "source": [
        "tran_nan = (transactions.isnull().sum() / transactions.shape[0]) * 100\n",
        "tran_nan"
      ],
      "metadata": {
        "colab": {
          "base_uri": "https://localhost:8080/"
        },
        "id": "30c0tYWuiwZ5",
        "outputId": "cc2de6a9-5259-4b9e-fb5e-fd36ceb4cfa8"
      },
      "execution_count": null,
      "outputs": [
        {
          "output_type": "execute_result",
          "data": {
            "text/plain": [
              "date            0.0\n",
              "store_nbr       0.0\n",
              "transactions    0.0\n",
              "dtype: float64"
            ]
          },
          "metadata": {},
          "execution_count": 10
        }
      ]
    },
    {
      "cell_type": "markdown",
      "source": [
        "No hay datos faltantes en (transactions.csv)"
      ],
      "metadata": {
        "id": "aDerSZvNojXW"
      }
    },
    {
      "cell_type": "markdown",
      "source": [
        "# **🦾Primeras predicciones**"
      ],
      "metadata": {
        "id": "IPbxvbgkgV7S"
      }
    },
    {
      "cell_type": "markdown",
      "source": [
        "Tomar 1 tienda por estado en las fechas mayores a 2016 y predecir las ventas unitarias de todos los productos."
      ],
      "metadata": {
        "id": "ZY1IKwvBZ6zP"
      }
    },
    {
      "cell_type": "code",
      "source": [
        "# Agrupar por estado y obtener el primer store_nbr en cada estado\n",
        "tienda_por_estado = stores.groupby('state')['store_nbr'].first()\n",
        "tienda_por_estado"
      ],
      "metadata": {
        "id": "0dYx3fJyZrm8",
        "colab": {
          "base_uri": "https://localhost:8080/"
        },
        "outputId": "bf2a5c5a-7187-4ff1-e4c5-7df75a8dad5f"
      },
      "execution_count": 4,
      "outputs": [
        {
          "output_type": "execute_result",
          "data": {
            "text/plain": [
              "state\n",
              "Azuay                             37\n",
              "Bolivar                           19\n",
              "Chimborazo                        14\n",
              "Cotopaxi                          12\n",
              "El Oro                            40\n",
              "Esmeraldas                        43\n",
              "Guayas                            24\n",
              "Imbabura                          15\n",
              "Loja                              38\n",
              "Los Rios                          31\n",
              "Manabi                            52\n",
              "Pastaza                           22\n",
              "Pichincha                          1\n",
              "Santa Elena                       25\n",
              "Santo Domingo de los Tsachilas     5\n",
              "Tungurahua                        23\n",
              "Name: store_nbr, dtype: int64"
            ]
          },
          "metadata": {},
          "execution_count": 4
        }
      ]
    },
    {
      "cell_type": "code",
      "source": [
        "# Inicializar una lista para almacenar los DataFrames filtrados\n",
        "datos_filtrados = []\n",
        "\n",
        "# Iterar a través de los chunks\n",
        "for chunk in chunked_dfs:\n",
        "    # Crear una máscara booleana para las tiendas seleccionadas\n",
        "    mask_tiendas = chunk['store_nbr'].isin(stores['store_nbr'])\n",
        "    # Crear una máscara booleana para las fechas entre 2016-01-01 a 2016-12-31\n",
        "    mask = (chunk['date'] >= '2016-01-01') & (chunk['date'] <= '2016-12-31') & chunk['store_nbr'].isin(tienda_por_estado)\n",
        "\n",
        "    # Aplicar la máscara y agregar las filas filtradas a la lista\n",
        "    trozo_filtrado = chunk[mask]\n",
        "    datos_filtrados.append(trozo_filtrado)\n",
        "\n",
        "# Concatenar los DataFrames filtrados en uno solo\n",
        "train_store_state = pd.concat(datos_filtrados, ignore_index=True)"
      ],
      "metadata": {
        "id": "41bFYCaWWNqs"
      },
      "execution_count": 5,
      "outputs": []
    },
    {
      "cell_type": "code",
      "source": [
        "train_nan = (train_store_state.isnull().sum() / train_store_state.shape[0]) * 100\n",
        "train_nan"
      ],
      "metadata": {
        "colab": {
          "base_uri": "https://localhost:8080/"
        },
        "id": "AivovsRBWhpB",
        "outputId": "9eb1c2a9-59e0-4834-ad1b-1c09366b45f7"
      },
      "execution_count": null,
      "outputs": [
        {
          "output_type": "execute_result",
          "data": {
            "text/plain": [
              "date           0.0\n",
              "store_nbr      0.0\n",
              "item_nbr       0.0\n",
              "unit_sales     0.0\n",
              "onpromotion    0.0\n",
              "dtype: float64"
            ]
          },
          "metadata": {},
          "execution_count": 16
        }
      ]
    },
    {
      "cell_type": "markdown",
      "source": [
        "No hay datos nulos en el dataframe de entrenamiento"
      ],
      "metadata": {
        "id": "tPOCSRRzb5na"
      }
    },
    {
      "cell_type": "markdown",
      "source": [
        "## **💱Convirtiendo datos para que la máquina lo pueda entender.**"
      ],
      "metadata": {
        "id": "5c0ygPsBTYDN"
      }
    },
    {
      "cell_type": "code",
      "source": [
        "# Convirtiendo las fechas\n",
        "train_store_state['date'] = pd.to_datetime(train_store_state['date'])\n",
        "holidays_e['date'] = pd.to_datetime(holidays_e['date'])\n",
        "oil['date'] = pd.to_datetime(oil['date'])"
      ],
      "metadata": {
        "id": "KQnpYdL-WnKv"
      },
      "execution_count": 6,
      "outputs": []
    },
    {
      "cell_type": "code",
      "source": [
        "# Columnas que no son importantes para las predicciones\n",
        "# No presentan ningun efecto, ni relación (Veáse la exploración de datos.)\n",
        "stores.drop(columns=['state', 'type', 'cluster'], inplace= True)\n",
        "\n",
        "#Si el día no es festivo se considera normal.\n",
        "#Si no es festivo nacional o local, también se considera normal.\n",
        "holidays_e.drop(columns = ['locale_name', 'description', 'transferred'], inplace = True)"
      ],
      "metadata": {
        "id": "LjDsfqcynHbH"
      },
      "execution_count": 7,
      "outputs": []
    },
    {
      "cell_type": "markdown",
      "source": [
        "## **📄Juntando los demás archivos en train.csv y generando dataframes de prueba y entrenamiento**"
      ],
      "metadata": {
        "id": "hjfgQOiFglzI"
      }
    },
    {
      "cell_type": "markdown",
      "source": [
        "Haré uso de un pipeline utilizando dos clases, una para unir los demás archivos teniendo como base el dataframe de entrenamiento 'train_store_state'"
      ],
      "metadata": {
        "id": "QysB55XYsex7"
      }
    },
    {
      "cell_type": "code",
      "source": [
        "class MergeDataTransformer(BaseEstimator, TransformerMixin):\n",
        "    def __init__(self):\n",
        "        # Constructor de la clase\n",
        "        print(\"Inicializando MergeDataTransformer\")\n",
        "\n",
        "    def fit(self, X, y=None):\n",
        "        return self\n",
        "\n",
        "    def transform(self, X):\n",
        "        # Realiza la fusión de DataFrames\n",
        "        X = pd.merge(pd.merge(pd.merge(X, stores, on='store_nbr', how='left'),\n",
        "                             oil, on='date', how='left'),\n",
        "                             holidays_e, on='date', how='left')\n",
        "\n",
        "        # Ordena los datos por fecha\n",
        "        X = X.sort_values('date')\n",
        "\n",
        "        # Reemplazando NaNs en oil.csv\n",
        "        X.dcoilwtico = X.dcoilwtico.fillna(method='bfill', axis=0).fillna(0)\n",
        "\n",
        "        # Llena los valores nulos en 'type' y 'locale' con 'Normal'\n",
        "        X.type = X.type.fillna('Normal')\n",
        "        X.locale = X.locale.fillna('Normal')\n",
        "\n",
        "        # Aplica la codificación one-hot a las columnas categóricas especificadas\n",
        "        encoder = OneHotEncoder()\n",
        "        categorical_cols = ['store_nbr', 'item_nbr', 'onpromotion', 'city', 'type', 'locale']\n",
        "\n",
        "        encoder.fit(X[categorical_cols])\n",
        "        encoded_cols = encoder.transform(X[categorical_cols]).toarray()\n",
        "        encoded_df = pd.DataFrame(encoded_cols, columns=encoder.get_feature_names_out(categorical_cols))\n",
        "\n",
        "        # Concatena los datos codificados one-hot con el DataFrame original\n",
        "        X = pd.concat([X.drop(columns=categorical_cols), encoded_df], axis=1)\n",
        "\n",
        "        # Restablece el índice del DataFrame resultante y elimina la columna 'index'\n",
        "        data = X.reset_index().drop(columns='index')\n",
        "\n",
        "        return data"
      ],
      "metadata": {
        "id": "xFYQT8yXbu_h"
      },
      "execution_count": 8,
      "outputs": []
    },
    {
      "cell_type": "markdown",
      "source": [
        "Separando los datos de prueba y entrenamiento con la clase SplitDataTransformer"
      ],
      "metadata": {
        "id": "DpybFuJPzEEs"
      }
    },
    {
      "cell_type": "code",
      "source": [
        "class SplitDataTransformer(BaseEstimator, TransformerMixin):\n",
        "    def __init__(self):\n",
        "        # Constructor de la clase\n",
        "        print(\"Inicializando SplitDataTransformer\")\n",
        "\n",
        "    def fit(self, X, y=None):\n",
        "        return self\n",
        "\n",
        "    def transform(self, X):\n",
        "        # Extrae la columna 'unit_sales' como el objetivo 'y' y elimina esta columna de 'X'\n",
        "        y = X.pop('unit_sales')\n",
        "\n",
        "        # Divide los datos en conjuntos de entrenamiento y prueba (90% de entrenamiento, 10% de prueba)\n",
        "        X_train, X_test, y_train, y_test = train_test_split(X, y, test_size=0.1)\n",
        "\n",
        "        # Establece la columna 'date' como el índice en los conjuntos de entrenamiento y prueba\n",
        "        X_train = X_train.set_index('date')\n",
        "        X_test = X_test.set_index('date')\n",
        "\n",
        "        # Devuelve los conjuntos de entrenamiento y prueba, así como los objetivos de entrenamiento y prueba\n",
        "        return X_train, X_test, y_train, y_test"
      ],
      "metadata": {
        "id": "taD-IANHcnsO"
      },
      "execution_count": 9,
      "outputs": []
    },
    {
      "cell_type": "code",
      "source": [
        "pipeline = Pipeline([\n",
        "    ('merge_data', MergeDataTransformer()),\n",
        "    ('split_data', SplitDataTransformer())\n",
        "])"
      ],
      "metadata": {
        "colab": {
          "base_uri": "https://localhost:8080/"
        },
        "id": "Qo68rPf9cqY8",
        "outputId": "5dcdffd4-6730-4220-9dee-869fcc49f2a6"
      },
      "execution_count": 10,
      "outputs": [
        {
          "output_type": "stream",
          "name": "stdout",
          "text": [
            "Inicializando MergeDataTransformer\n",
            "Inicializando SplitDataTransformer\n"
          ]
        }
      ]
    },
    {
      "cell_type": "markdown",
      "source": [
        "Selecciono 78k filas del dataframe ya filtrado por año (2016)"
      ],
      "metadata": {
        "id": "z7y941o3OEIF"
      }
    },
    {
      "cell_type": "code",
      "source": [
        "# Seleccionar aleatoriamente 78.000 filas de 'train_store_state'\n",
        "train_sample = train_store_state.sample(n=78000)"
      ],
      "metadata": {
        "id": "zeVIXeA0gDLK"
      },
      "execution_count": 11,
      "outputs": []
    },
    {
      "cell_type": "markdown",
      "source": [
        "📄X_train y y_train se utilizarán para entrenar el modelo, por otra parte X_test y y_test se usan para medir el rendimiento (conjunto de prueba). Esta separación nos permite medir el desempeño de lo modelos en datos no vistos antes."
      ],
      "metadata": {
        "id": "YPul2qcqrtCw"
      }
    },
    {
      "cell_type": "code",
      "source": [
        "X_train, X_test, y_train, y_test = pipeline.fit_transform(train_sample)"
      ],
      "metadata": {
        "id": "ifeOG1pVcxao"
      },
      "execution_count": 12,
      "outputs": []
    },
    {
      "cell_type": "markdown",
      "source": [
        "Viendo los conjuntos de prueba y entrenamiento"
      ],
      "metadata": {
        "id": "EiJSYggzQfRJ"
      }
    },
    {
      "cell_type": "code",
      "source": [
        "X_train.head(2)"
      ],
      "metadata": {
        "colab": {
          "base_uri": "https://localhost:8080/",
          "height": 245
        },
        "id": "wS3d1WWnQiEw",
        "outputId": "f322ccf9-eaa6-48be-91de-03b0f6f51ccb"
      },
      "execution_count": 13,
      "outputs": [
        {
          "output_type": "execute_result",
          "data": {
            "text/plain": [
              "            dcoilwtico  store_nbr_1  store_nbr_5  store_nbr_12  store_nbr_14  \\\n",
              "date                                                                           \n",
              "2016-11-08       44.96          0.0          1.0           0.0           0.0   \n",
              "2016-02-29       32.74          0.0          0.0           0.0           0.0   \n",
              "\n",
              "            store_nbr_15  store_nbr_19  store_nbr_22  store_nbr_23  \\\n",
              "date                                                                 \n",
              "2016-11-08           0.0           0.0           0.0           0.0   \n",
              "2016-02-29           0.0           0.0           0.0           0.0   \n",
              "\n",
              "            store_nbr_24  ...  type_Bridge  type_Event  type_Holiday  \\\n",
              "date                      ...                                          \n",
              "2016-11-08           0.0  ...          0.0         0.0           0.0   \n",
              "2016-02-29           0.0  ...          0.0         0.0           0.0   \n",
              "\n",
              "            type_Normal  type_Transfer  type_Work Day  locale_Local  \\\n",
              "date                                                                  \n",
              "2016-11-08          0.0            1.0            0.0           0.0   \n",
              "2016-02-29          1.0            0.0            0.0           0.0   \n",
              "\n",
              "            locale_National  locale_Normal  locale_Regional  \n",
              "date                                                         \n",
              "2016-11-08              1.0            0.0              0.0  \n",
              "2016-02-29              0.0            1.0              0.0  \n",
              "\n",
              "[2 rows x 3758 columns]"
            ],
            "text/html": [
              "\n",
              "  <div id=\"df-dd39bf73-a933-4b9f-b900-fcc6209d757b\" class=\"colab-df-container\">\n",
              "    <div>\n",
              "<style scoped>\n",
              "    .dataframe tbody tr th:only-of-type {\n",
              "        vertical-align: middle;\n",
              "    }\n",
              "\n",
              "    .dataframe tbody tr th {\n",
              "        vertical-align: top;\n",
              "    }\n",
              "\n",
              "    .dataframe thead th {\n",
              "        text-align: right;\n",
              "    }\n",
              "</style>\n",
              "<table border=\"1\" class=\"dataframe\">\n",
              "  <thead>\n",
              "    <tr style=\"text-align: right;\">\n",
              "      <th></th>\n",
              "      <th>dcoilwtico</th>\n",
              "      <th>store_nbr_1</th>\n",
              "      <th>store_nbr_5</th>\n",
              "      <th>store_nbr_12</th>\n",
              "      <th>store_nbr_14</th>\n",
              "      <th>store_nbr_15</th>\n",
              "      <th>store_nbr_19</th>\n",
              "      <th>store_nbr_22</th>\n",
              "      <th>store_nbr_23</th>\n",
              "      <th>store_nbr_24</th>\n",
              "      <th>...</th>\n",
              "      <th>type_Bridge</th>\n",
              "      <th>type_Event</th>\n",
              "      <th>type_Holiday</th>\n",
              "      <th>type_Normal</th>\n",
              "      <th>type_Transfer</th>\n",
              "      <th>type_Work Day</th>\n",
              "      <th>locale_Local</th>\n",
              "      <th>locale_National</th>\n",
              "      <th>locale_Normal</th>\n",
              "      <th>locale_Regional</th>\n",
              "    </tr>\n",
              "    <tr>\n",
              "      <th>date</th>\n",
              "      <th></th>\n",
              "      <th></th>\n",
              "      <th></th>\n",
              "      <th></th>\n",
              "      <th></th>\n",
              "      <th></th>\n",
              "      <th></th>\n",
              "      <th></th>\n",
              "      <th></th>\n",
              "      <th></th>\n",
              "      <th></th>\n",
              "      <th></th>\n",
              "      <th></th>\n",
              "      <th></th>\n",
              "      <th></th>\n",
              "      <th></th>\n",
              "      <th></th>\n",
              "      <th></th>\n",
              "      <th></th>\n",
              "      <th></th>\n",
              "      <th></th>\n",
              "    </tr>\n",
              "  </thead>\n",
              "  <tbody>\n",
              "    <tr>\n",
              "      <th>2016-11-08</th>\n",
              "      <td>44.96</td>\n",
              "      <td>0.0</td>\n",
              "      <td>1.0</td>\n",
              "      <td>0.0</td>\n",
              "      <td>0.0</td>\n",
              "      <td>0.0</td>\n",
              "      <td>0.0</td>\n",
              "      <td>0.0</td>\n",
              "      <td>0.0</td>\n",
              "      <td>0.0</td>\n",
              "      <td>...</td>\n",
              "      <td>0.0</td>\n",
              "      <td>0.0</td>\n",
              "      <td>0.0</td>\n",
              "      <td>0.0</td>\n",
              "      <td>1.0</td>\n",
              "      <td>0.0</td>\n",
              "      <td>0.0</td>\n",
              "      <td>1.0</td>\n",
              "      <td>0.0</td>\n",
              "      <td>0.0</td>\n",
              "    </tr>\n",
              "    <tr>\n",
              "      <th>2016-02-29</th>\n",
              "      <td>32.74</td>\n",
              "      <td>0.0</td>\n",
              "      <td>0.0</td>\n",
              "      <td>0.0</td>\n",
              "      <td>0.0</td>\n",
              "      <td>0.0</td>\n",
              "      <td>0.0</td>\n",
              "      <td>0.0</td>\n",
              "      <td>0.0</td>\n",
              "      <td>0.0</td>\n",
              "      <td>...</td>\n",
              "      <td>0.0</td>\n",
              "      <td>0.0</td>\n",
              "      <td>0.0</td>\n",
              "      <td>1.0</td>\n",
              "      <td>0.0</td>\n",
              "      <td>0.0</td>\n",
              "      <td>0.0</td>\n",
              "      <td>0.0</td>\n",
              "      <td>1.0</td>\n",
              "      <td>0.0</td>\n",
              "    </tr>\n",
              "  </tbody>\n",
              "</table>\n",
              "<p>2 rows × 3758 columns</p>\n",
              "</div>\n",
              "    <div class=\"colab-df-buttons\">\n",
              "\n",
              "  <div class=\"colab-df-container\">\n",
              "    <button class=\"colab-df-convert\" onclick=\"convertToInteractive('df-dd39bf73-a933-4b9f-b900-fcc6209d757b')\"\n",
              "            title=\"Convert this dataframe to an interactive table.\"\n",
              "            style=\"display:none;\">\n",
              "\n",
              "  <svg xmlns=\"http://www.w3.org/2000/svg\" height=\"24px\" viewBox=\"0 -960 960 960\">\n",
              "    <path d=\"M120-120v-720h720v720H120Zm60-500h600v-160H180v160Zm220 220h160v-160H400v160Zm0 220h160v-160H400v160ZM180-400h160v-160H180v160Zm440 0h160v-160H620v160ZM180-180h160v-160H180v160Zm440 0h160v-160H620v160Z\"/>\n",
              "  </svg>\n",
              "    </button>\n",
              "\n",
              "  <style>\n",
              "    .colab-df-container {\n",
              "      display:flex;\n",
              "      gap: 12px;\n",
              "    }\n",
              "\n",
              "    .colab-df-convert {\n",
              "      background-color: #E8F0FE;\n",
              "      border: none;\n",
              "      border-radius: 50%;\n",
              "      cursor: pointer;\n",
              "      display: none;\n",
              "      fill: #1967D2;\n",
              "      height: 32px;\n",
              "      padding: 0 0 0 0;\n",
              "      width: 32px;\n",
              "    }\n",
              "\n",
              "    .colab-df-convert:hover {\n",
              "      background-color: #E2EBFA;\n",
              "      box-shadow: 0px 1px 2px rgba(60, 64, 67, 0.3), 0px 1px 3px 1px rgba(60, 64, 67, 0.15);\n",
              "      fill: #174EA6;\n",
              "    }\n",
              "\n",
              "    .colab-df-buttons div {\n",
              "      margin-bottom: 4px;\n",
              "    }\n",
              "\n",
              "    [theme=dark] .colab-df-convert {\n",
              "      background-color: #3B4455;\n",
              "      fill: #D2E3FC;\n",
              "    }\n",
              "\n",
              "    [theme=dark] .colab-df-convert:hover {\n",
              "      background-color: #434B5C;\n",
              "      box-shadow: 0px 1px 3px 1px rgba(0, 0, 0, 0.15);\n",
              "      filter: drop-shadow(0px 1px 2px rgba(0, 0, 0, 0.3));\n",
              "      fill: #FFFFFF;\n",
              "    }\n",
              "  </style>\n",
              "\n",
              "    <script>\n",
              "      const buttonEl =\n",
              "        document.querySelector('#df-dd39bf73-a933-4b9f-b900-fcc6209d757b button.colab-df-convert');\n",
              "      buttonEl.style.display =\n",
              "        google.colab.kernel.accessAllowed ? 'block' : 'none';\n",
              "\n",
              "      async function convertToInteractive(key) {\n",
              "        const element = document.querySelector('#df-dd39bf73-a933-4b9f-b900-fcc6209d757b');\n",
              "        const dataTable =\n",
              "          await google.colab.kernel.invokeFunction('convertToInteractive',\n",
              "                                                    [key], {});\n",
              "        if (!dataTable) return;\n",
              "\n",
              "        const docLinkHtml = 'Like what you see? Visit the ' +\n",
              "          '<a target=\"_blank\" href=https://colab.research.google.com/notebooks/data_table.ipynb>data table notebook</a>'\n",
              "          + ' to learn more about interactive tables.';\n",
              "        element.innerHTML = '';\n",
              "        dataTable['output_type'] = 'display_data';\n",
              "        await google.colab.output.renderOutput(dataTable, element);\n",
              "        const docLink = document.createElement('div');\n",
              "        docLink.innerHTML = docLinkHtml;\n",
              "        element.appendChild(docLink);\n",
              "      }\n",
              "    </script>\n",
              "  </div>\n",
              "\n",
              "\n",
              "<div id=\"df-c7ac8802-e5b5-4787-bc7c-9b6ca1ab176d\">\n",
              "  <button class=\"colab-df-quickchart\" onclick=\"quickchart('df-c7ac8802-e5b5-4787-bc7c-9b6ca1ab176d')\"\n",
              "            title=\"Suggest charts.\"\n",
              "            style=\"display:none;\">\n",
              "\n",
              "<svg xmlns=\"http://www.w3.org/2000/svg\" height=\"24px\"viewBox=\"0 0 24 24\"\n",
              "     width=\"24px\">\n",
              "    <g>\n",
              "        <path d=\"M19 3H5c-1.1 0-2 .9-2 2v14c0 1.1.9 2 2 2h14c1.1 0 2-.9 2-2V5c0-1.1-.9-2-2-2zM9 17H7v-7h2v7zm4 0h-2V7h2v10zm4 0h-2v-4h2v4z\"/>\n",
              "    </g>\n",
              "</svg>\n",
              "  </button>\n",
              "\n",
              "<style>\n",
              "  .colab-df-quickchart {\n",
              "      --bg-color: #E8F0FE;\n",
              "      --fill-color: #1967D2;\n",
              "      --hover-bg-color: #E2EBFA;\n",
              "      --hover-fill-color: #174EA6;\n",
              "      --disabled-fill-color: #AAA;\n",
              "      --disabled-bg-color: #DDD;\n",
              "  }\n",
              "\n",
              "  [theme=dark] .colab-df-quickchart {\n",
              "      --bg-color: #3B4455;\n",
              "      --fill-color: #D2E3FC;\n",
              "      --hover-bg-color: #434B5C;\n",
              "      --hover-fill-color: #FFFFFF;\n",
              "      --disabled-bg-color: #3B4455;\n",
              "      --disabled-fill-color: #666;\n",
              "  }\n",
              "\n",
              "  .colab-df-quickchart {\n",
              "    background-color: var(--bg-color);\n",
              "    border: none;\n",
              "    border-radius: 50%;\n",
              "    cursor: pointer;\n",
              "    display: none;\n",
              "    fill: var(--fill-color);\n",
              "    height: 32px;\n",
              "    padding: 0;\n",
              "    width: 32px;\n",
              "  }\n",
              "\n",
              "  .colab-df-quickchart:hover {\n",
              "    background-color: var(--hover-bg-color);\n",
              "    box-shadow: 0 1px 2px rgba(60, 64, 67, 0.3), 0 1px 3px 1px rgba(60, 64, 67, 0.15);\n",
              "    fill: var(--button-hover-fill-color);\n",
              "  }\n",
              "\n",
              "  .colab-df-quickchart-complete:disabled,\n",
              "  .colab-df-quickchart-complete:disabled:hover {\n",
              "    background-color: var(--disabled-bg-color);\n",
              "    fill: var(--disabled-fill-color);\n",
              "    box-shadow: none;\n",
              "  }\n",
              "\n",
              "  .colab-df-spinner {\n",
              "    border: 2px solid var(--fill-color);\n",
              "    border-color: transparent;\n",
              "    border-bottom-color: var(--fill-color);\n",
              "    animation:\n",
              "      spin 1s steps(1) infinite;\n",
              "  }\n",
              "\n",
              "  @keyframes spin {\n",
              "    0% {\n",
              "      border-color: transparent;\n",
              "      border-bottom-color: var(--fill-color);\n",
              "      border-left-color: var(--fill-color);\n",
              "    }\n",
              "    20% {\n",
              "      border-color: transparent;\n",
              "      border-left-color: var(--fill-color);\n",
              "      border-top-color: var(--fill-color);\n",
              "    }\n",
              "    30% {\n",
              "      border-color: transparent;\n",
              "      border-left-color: var(--fill-color);\n",
              "      border-top-color: var(--fill-color);\n",
              "      border-right-color: var(--fill-color);\n",
              "    }\n",
              "    40% {\n",
              "      border-color: transparent;\n",
              "      border-right-color: var(--fill-color);\n",
              "      border-top-color: var(--fill-color);\n",
              "    }\n",
              "    60% {\n",
              "      border-color: transparent;\n",
              "      border-right-color: var(--fill-color);\n",
              "    }\n",
              "    80% {\n",
              "      border-color: transparent;\n",
              "      border-right-color: var(--fill-color);\n",
              "      border-bottom-color: var(--fill-color);\n",
              "    }\n",
              "    90% {\n",
              "      border-color: transparent;\n",
              "      border-bottom-color: var(--fill-color);\n",
              "    }\n",
              "  }\n",
              "</style>\n",
              "\n",
              "  <script>\n",
              "    async function quickchart(key) {\n",
              "      const quickchartButtonEl =\n",
              "        document.querySelector('#' + key + ' button');\n",
              "      quickchartButtonEl.disabled = true;  // To prevent multiple clicks.\n",
              "      quickchartButtonEl.classList.add('colab-df-spinner');\n",
              "      try {\n",
              "        const charts = await google.colab.kernel.invokeFunction(\n",
              "            'suggestCharts', [key], {});\n",
              "      } catch (error) {\n",
              "        console.error('Error during call to suggestCharts:', error);\n",
              "      }\n",
              "      quickchartButtonEl.classList.remove('colab-df-spinner');\n",
              "      quickchartButtonEl.classList.add('colab-df-quickchart-complete');\n",
              "    }\n",
              "    (() => {\n",
              "      let quickchartButtonEl =\n",
              "        document.querySelector('#df-c7ac8802-e5b5-4787-bc7c-9b6ca1ab176d button');\n",
              "      quickchartButtonEl.style.display =\n",
              "        google.colab.kernel.accessAllowed ? 'block' : 'none';\n",
              "    })();\n",
              "  </script>\n",
              "</div>\n",
              "    </div>\n",
              "  </div>\n"
            ]
          },
          "metadata": {},
          "execution_count": 13
        }
      ]
    },
    {
      "cell_type": "code",
      "source": [
        "X_test.head(2)"
      ],
      "metadata": {
        "colab": {
          "base_uri": "https://localhost:8080/",
          "height": 245
        },
        "id": "e682zQ8oQknR",
        "outputId": "10b406f4-a9df-47d9-f38c-c4a8ea89cdc2"
      },
      "execution_count": 14,
      "outputs": [
        {
          "output_type": "execute_result",
          "data": {
            "text/plain": [
              "            dcoilwtico  store_nbr_1  store_nbr_5  store_nbr_12  store_nbr_14  \\\n",
              "date                                                                           \n",
              "2016-09-10       46.28          0.0          0.0           0.0           0.0   \n",
              "2016-08-31       44.68          0.0          0.0           0.0           0.0   \n",
              "\n",
              "            store_nbr_15  store_nbr_19  store_nbr_22  store_nbr_23  \\\n",
              "date                                                                 \n",
              "2016-09-10           0.0           0.0           0.0           0.0   \n",
              "2016-08-31           0.0           0.0           0.0           0.0   \n",
              "\n",
              "            store_nbr_24  ...  type_Bridge  type_Event  type_Holiday  \\\n",
              "date                      ...                                          \n",
              "2016-09-10           0.0  ...          0.0         0.0           0.0   \n",
              "2016-08-31           0.0  ...          0.0         1.0           0.0   \n",
              "\n",
              "            type_Normal  type_Transfer  type_Work Day  locale_Local  \\\n",
              "date                                                                  \n",
              "2016-09-10          1.0            0.0            0.0           0.0   \n",
              "2016-08-31          0.0            0.0            0.0           0.0   \n",
              "\n",
              "            locale_National  locale_Normal  locale_Regional  \n",
              "date                                                         \n",
              "2016-09-10              0.0            1.0              0.0  \n",
              "2016-08-31              1.0            0.0              0.0  \n",
              "\n",
              "[2 rows x 3758 columns]"
            ],
            "text/html": [
              "\n",
              "  <div id=\"df-68fb74c6-cb36-4e90-ba82-adfb327a6e95\" class=\"colab-df-container\">\n",
              "    <div>\n",
              "<style scoped>\n",
              "    .dataframe tbody tr th:only-of-type {\n",
              "        vertical-align: middle;\n",
              "    }\n",
              "\n",
              "    .dataframe tbody tr th {\n",
              "        vertical-align: top;\n",
              "    }\n",
              "\n",
              "    .dataframe thead th {\n",
              "        text-align: right;\n",
              "    }\n",
              "</style>\n",
              "<table border=\"1\" class=\"dataframe\">\n",
              "  <thead>\n",
              "    <tr style=\"text-align: right;\">\n",
              "      <th></th>\n",
              "      <th>dcoilwtico</th>\n",
              "      <th>store_nbr_1</th>\n",
              "      <th>store_nbr_5</th>\n",
              "      <th>store_nbr_12</th>\n",
              "      <th>store_nbr_14</th>\n",
              "      <th>store_nbr_15</th>\n",
              "      <th>store_nbr_19</th>\n",
              "      <th>store_nbr_22</th>\n",
              "      <th>store_nbr_23</th>\n",
              "      <th>store_nbr_24</th>\n",
              "      <th>...</th>\n",
              "      <th>type_Bridge</th>\n",
              "      <th>type_Event</th>\n",
              "      <th>type_Holiday</th>\n",
              "      <th>type_Normal</th>\n",
              "      <th>type_Transfer</th>\n",
              "      <th>type_Work Day</th>\n",
              "      <th>locale_Local</th>\n",
              "      <th>locale_National</th>\n",
              "      <th>locale_Normal</th>\n",
              "      <th>locale_Regional</th>\n",
              "    </tr>\n",
              "    <tr>\n",
              "      <th>date</th>\n",
              "      <th></th>\n",
              "      <th></th>\n",
              "      <th></th>\n",
              "      <th></th>\n",
              "      <th></th>\n",
              "      <th></th>\n",
              "      <th></th>\n",
              "      <th></th>\n",
              "      <th></th>\n",
              "      <th></th>\n",
              "      <th></th>\n",
              "      <th></th>\n",
              "      <th></th>\n",
              "      <th></th>\n",
              "      <th></th>\n",
              "      <th></th>\n",
              "      <th></th>\n",
              "      <th></th>\n",
              "      <th></th>\n",
              "      <th></th>\n",
              "      <th></th>\n",
              "    </tr>\n",
              "  </thead>\n",
              "  <tbody>\n",
              "    <tr>\n",
              "      <th>2016-09-10</th>\n",
              "      <td>46.28</td>\n",
              "      <td>0.0</td>\n",
              "      <td>0.0</td>\n",
              "      <td>0.0</td>\n",
              "      <td>0.0</td>\n",
              "      <td>0.0</td>\n",
              "      <td>0.0</td>\n",
              "      <td>0.0</td>\n",
              "      <td>0.0</td>\n",
              "      <td>0.0</td>\n",
              "      <td>...</td>\n",
              "      <td>0.0</td>\n",
              "      <td>0.0</td>\n",
              "      <td>0.0</td>\n",
              "      <td>1.0</td>\n",
              "      <td>0.0</td>\n",
              "      <td>0.0</td>\n",
              "      <td>0.0</td>\n",
              "      <td>0.0</td>\n",
              "      <td>1.0</td>\n",
              "      <td>0.0</td>\n",
              "    </tr>\n",
              "    <tr>\n",
              "      <th>2016-08-31</th>\n",
              "      <td>44.68</td>\n",
              "      <td>0.0</td>\n",
              "      <td>0.0</td>\n",
              "      <td>0.0</td>\n",
              "      <td>0.0</td>\n",
              "      <td>0.0</td>\n",
              "      <td>0.0</td>\n",
              "      <td>0.0</td>\n",
              "      <td>0.0</td>\n",
              "      <td>0.0</td>\n",
              "      <td>...</td>\n",
              "      <td>0.0</td>\n",
              "      <td>1.0</td>\n",
              "      <td>0.0</td>\n",
              "      <td>0.0</td>\n",
              "      <td>0.0</td>\n",
              "      <td>0.0</td>\n",
              "      <td>0.0</td>\n",
              "      <td>1.0</td>\n",
              "      <td>0.0</td>\n",
              "      <td>0.0</td>\n",
              "    </tr>\n",
              "  </tbody>\n",
              "</table>\n",
              "<p>2 rows × 3758 columns</p>\n",
              "</div>\n",
              "    <div class=\"colab-df-buttons\">\n",
              "\n",
              "  <div class=\"colab-df-container\">\n",
              "    <button class=\"colab-df-convert\" onclick=\"convertToInteractive('df-68fb74c6-cb36-4e90-ba82-adfb327a6e95')\"\n",
              "            title=\"Convert this dataframe to an interactive table.\"\n",
              "            style=\"display:none;\">\n",
              "\n",
              "  <svg xmlns=\"http://www.w3.org/2000/svg\" height=\"24px\" viewBox=\"0 -960 960 960\">\n",
              "    <path d=\"M120-120v-720h720v720H120Zm60-500h600v-160H180v160Zm220 220h160v-160H400v160Zm0 220h160v-160H400v160ZM180-400h160v-160H180v160Zm440 0h160v-160H620v160ZM180-180h160v-160H180v160Zm440 0h160v-160H620v160Z\"/>\n",
              "  </svg>\n",
              "    </button>\n",
              "\n",
              "  <style>\n",
              "    .colab-df-container {\n",
              "      display:flex;\n",
              "      gap: 12px;\n",
              "    }\n",
              "\n",
              "    .colab-df-convert {\n",
              "      background-color: #E8F0FE;\n",
              "      border: none;\n",
              "      border-radius: 50%;\n",
              "      cursor: pointer;\n",
              "      display: none;\n",
              "      fill: #1967D2;\n",
              "      height: 32px;\n",
              "      padding: 0 0 0 0;\n",
              "      width: 32px;\n",
              "    }\n",
              "\n",
              "    .colab-df-convert:hover {\n",
              "      background-color: #E2EBFA;\n",
              "      box-shadow: 0px 1px 2px rgba(60, 64, 67, 0.3), 0px 1px 3px 1px rgba(60, 64, 67, 0.15);\n",
              "      fill: #174EA6;\n",
              "    }\n",
              "\n",
              "    .colab-df-buttons div {\n",
              "      margin-bottom: 4px;\n",
              "    }\n",
              "\n",
              "    [theme=dark] .colab-df-convert {\n",
              "      background-color: #3B4455;\n",
              "      fill: #D2E3FC;\n",
              "    }\n",
              "\n",
              "    [theme=dark] .colab-df-convert:hover {\n",
              "      background-color: #434B5C;\n",
              "      box-shadow: 0px 1px 3px 1px rgba(0, 0, 0, 0.15);\n",
              "      filter: drop-shadow(0px 1px 2px rgba(0, 0, 0, 0.3));\n",
              "      fill: #FFFFFF;\n",
              "    }\n",
              "  </style>\n",
              "\n",
              "    <script>\n",
              "      const buttonEl =\n",
              "        document.querySelector('#df-68fb74c6-cb36-4e90-ba82-adfb327a6e95 button.colab-df-convert');\n",
              "      buttonEl.style.display =\n",
              "        google.colab.kernel.accessAllowed ? 'block' : 'none';\n",
              "\n",
              "      async function convertToInteractive(key) {\n",
              "        const element = document.querySelector('#df-68fb74c6-cb36-4e90-ba82-adfb327a6e95');\n",
              "        const dataTable =\n",
              "          await google.colab.kernel.invokeFunction('convertToInteractive',\n",
              "                                                    [key], {});\n",
              "        if (!dataTable) return;\n",
              "\n",
              "        const docLinkHtml = 'Like what you see? Visit the ' +\n",
              "          '<a target=\"_blank\" href=https://colab.research.google.com/notebooks/data_table.ipynb>data table notebook</a>'\n",
              "          + ' to learn more about interactive tables.';\n",
              "        element.innerHTML = '';\n",
              "        dataTable['output_type'] = 'display_data';\n",
              "        await google.colab.output.renderOutput(dataTable, element);\n",
              "        const docLink = document.createElement('div');\n",
              "        docLink.innerHTML = docLinkHtml;\n",
              "        element.appendChild(docLink);\n",
              "      }\n",
              "    </script>\n",
              "  </div>\n",
              "\n",
              "\n",
              "<div id=\"df-540e1187-8427-41e7-afce-872948afa0e7\">\n",
              "  <button class=\"colab-df-quickchart\" onclick=\"quickchart('df-540e1187-8427-41e7-afce-872948afa0e7')\"\n",
              "            title=\"Suggest charts.\"\n",
              "            style=\"display:none;\">\n",
              "\n",
              "<svg xmlns=\"http://www.w3.org/2000/svg\" height=\"24px\"viewBox=\"0 0 24 24\"\n",
              "     width=\"24px\">\n",
              "    <g>\n",
              "        <path d=\"M19 3H5c-1.1 0-2 .9-2 2v14c0 1.1.9 2 2 2h14c1.1 0 2-.9 2-2V5c0-1.1-.9-2-2-2zM9 17H7v-7h2v7zm4 0h-2V7h2v10zm4 0h-2v-4h2v4z\"/>\n",
              "    </g>\n",
              "</svg>\n",
              "  </button>\n",
              "\n",
              "<style>\n",
              "  .colab-df-quickchart {\n",
              "      --bg-color: #E8F0FE;\n",
              "      --fill-color: #1967D2;\n",
              "      --hover-bg-color: #E2EBFA;\n",
              "      --hover-fill-color: #174EA6;\n",
              "      --disabled-fill-color: #AAA;\n",
              "      --disabled-bg-color: #DDD;\n",
              "  }\n",
              "\n",
              "  [theme=dark] .colab-df-quickchart {\n",
              "      --bg-color: #3B4455;\n",
              "      --fill-color: #D2E3FC;\n",
              "      --hover-bg-color: #434B5C;\n",
              "      --hover-fill-color: #FFFFFF;\n",
              "      --disabled-bg-color: #3B4455;\n",
              "      --disabled-fill-color: #666;\n",
              "  }\n",
              "\n",
              "  .colab-df-quickchart {\n",
              "    background-color: var(--bg-color);\n",
              "    border: none;\n",
              "    border-radius: 50%;\n",
              "    cursor: pointer;\n",
              "    display: none;\n",
              "    fill: var(--fill-color);\n",
              "    height: 32px;\n",
              "    padding: 0;\n",
              "    width: 32px;\n",
              "  }\n",
              "\n",
              "  .colab-df-quickchart:hover {\n",
              "    background-color: var(--hover-bg-color);\n",
              "    box-shadow: 0 1px 2px rgba(60, 64, 67, 0.3), 0 1px 3px 1px rgba(60, 64, 67, 0.15);\n",
              "    fill: var(--button-hover-fill-color);\n",
              "  }\n",
              "\n",
              "  .colab-df-quickchart-complete:disabled,\n",
              "  .colab-df-quickchart-complete:disabled:hover {\n",
              "    background-color: var(--disabled-bg-color);\n",
              "    fill: var(--disabled-fill-color);\n",
              "    box-shadow: none;\n",
              "  }\n",
              "\n",
              "  .colab-df-spinner {\n",
              "    border: 2px solid var(--fill-color);\n",
              "    border-color: transparent;\n",
              "    border-bottom-color: var(--fill-color);\n",
              "    animation:\n",
              "      spin 1s steps(1) infinite;\n",
              "  }\n",
              "\n",
              "  @keyframes spin {\n",
              "    0% {\n",
              "      border-color: transparent;\n",
              "      border-bottom-color: var(--fill-color);\n",
              "      border-left-color: var(--fill-color);\n",
              "    }\n",
              "    20% {\n",
              "      border-color: transparent;\n",
              "      border-left-color: var(--fill-color);\n",
              "      border-top-color: var(--fill-color);\n",
              "    }\n",
              "    30% {\n",
              "      border-color: transparent;\n",
              "      border-left-color: var(--fill-color);\n",
              "      border-top-color: var(--fill-color);\n",
              "      border-right-color: var(--fill-color);\n",
              "    }\n",
              "    40% {\n",
              "      border-color: transparent;\n",
              "      border-right-color: var(--fill-color);\n",
              "      border-top-color: var(--fill-color);\n",
              "    }\n",
              "    60% {\n",
              "      border-color: transparent;\n",
              "      border-right-color: var(--fill-color);\n",
              "    }\n",
              "    80% {\n",
              "      border-color: transparent;\n",
              "      border-right-color: var(--fill-color);\n",
              "      border-bottom-color: var(--fill-color);\n",
              "    }\n",
              "    90% {\n",
              "      border-color: transparent;\n",
              "      border-bottom-color: var(--fill-color);\n",
              "    }\n",
              "  }\n",
              "</style>\n",
              "\n",
              "  <script>\n",
              "    async function quickchart(key) {\n",
              "      const quickchartButtonEl =\n",
              "        document.querySelector('#' + key + ' button');\n",
              "      quickchartButtonEl.disabled = true;  // To prevent multiple clicks.\n",
              "      quickchartButtonEl.classList.add('colab-df-spinner');\n",
              "      try {\n",
              "        const charts = await google.colab.kernel.invokeFunction(\n",
              "            'suggestCharts', [key], {});\n",
              "      } catch (error) {\n",
              "        console.error('Error during call to suggestCharts:', error);\n",
              "      }\n",
              "      quickchartButtonEl.classList.remove('colab-df-spinner');\n",
              "      quickchartButtonEl.classList.add('colab-df-quickchart-complete');\n",
              "    }\n",
              "    (() => {\n",
              "      let quickchartButtonEl =\n",
              "        document.querySelector('#df-540e1187-8427-41e7-afce-872948afa0e7 button');\n",
              "      quickchartButtonEl.style.display =\n",
              "        google.colab.kernel.accessAllowed ? 'block' : 'none';\n",
              "    })();\n",
              "  </script>\n",
              "</div>\n",
              "    </div>\n",
              "  </div>\n"
            ]
          },
          "metadata": {},
          "execution_count": 14
        }
      ]
    },
    {
      "cell_type": "code",
      "source": [
        "y_train.head(2)"
      ],
      "metadata": {
        "colab": {
          "base_uri": "https://localhost:8080/"
        },
        "id": "68V04mVsQmd5",
        "outputId": "caaa8e67-22c2-4030-ee73-cf222cb22275"
      },
      "execution_count": 15,
      "outputs": [
        {
          "output_type": "execute_result",
          "data": {
            "text/plain": [
              "68009     1.000\n",
              "12010    13.122\n",
              "Name: unit_sales, dtype: float64"
            ]
          },
          "metadata": {},
          "execution_count": 15
        }
      ]
    },
    {
      "cell_type": "code",
      "source": [
        "y_test.head(2)"
      ],
      "metadata": {
        "colab": {
          "base_uri": "https://localhost:8080/"
        },
        "id": "NmPphuPaQqpz",
        "outputId": "fc4af7f1-0bf3-4118-ee63-6a1beed1803e"
      },
      "execution_count": 16,
      "outputs": [
        {
          "output_type": "execute_result",
          "data": {
            "text/plain": [
              "55442    4.0\n",
              "53262    2.0\n",
              "Name: unit_sales, dtype: float64"
            ]
          },
          "metadata": {},
          "execution_count": 16
        }
      ]
    },
    {
      "cell_type": "markdown",
      "source": [
        "Distribución de las ventas unitarias del train_sample 📊"
      ],
      "metadata": {
        "id": "q6xtGPYDzqVc"
      }
    },
    {
      "cell_type": "code",
      "source": [
        "# Visualizar la distribución de unit_sales en train_sample\n",
        "plt.figure(figsize=(10, 6))\n",
        "plt.hist(train_sample['unit_sales'], bins=50, color='blue', alpha=0.7, label='train_sample')\n",
        "plt.title('Distribución de unit_sales en train_sample')\n",
        "plt.xlabel('Número de ventas unitarias')\n",
        "plt.ylabel('Frecuencia')\n",
        "\n",
        "plt.xlim(0, 200)\n",
        "\n",
        "plt.legend()\n",
        "plt.show()"
      ],
      "metadata": {
        "colab": {
          "base_uri": "https://localhost:8080/",
          "height": 565
        },
        "id": "6GX8iqK1ztqE",
        "outputId": "3acb41a1-a78f-47a8-8ac4-f3758bfdbfc5"
      },
      "execution_count": 26,
      "outputs": [
        {
          "output_type": "display_data",
          "data": {
            "text/plain": [
              "<Figure size 1000x600 with 1 Axes>"
            ],
            "image/png": "[encoded data removed]"
          },
          "metadata": {}
        }
      ]
    },
    {
      "cell_type": "markdown",
      "source": [
        "Distribución de las ventas unitarias del train_store_state 📊"
      ],
      "metadata": {
        "id": "lWz7JOuyz-1c"
      }
    },
    {
      "cell_type": "code",
      "source": [
        "# Visualizar la distribución de unit_sales en train\n",
        "plt.figure(figsize=(10, 6))\n",
        "plt.hist(train_store_state['unit_sales'], bins=50, color='green', alpha=0.7, label='train')\n",
        "plt.title('Distribución de unit_sales en train')\n",
        "plt.xlabel('Número de ventas unitarias')\n",
        "plt.ylabel('Frecuencia')\n",
        "\n",
        "plt.xlim(0, 200)\n",
        "plt.legend()\n",
        "plt.show()"
      ],
      "metadata": {
        "colab": {
          "base_uri": "https://localhost:8080/",
          "height": 565
        },
        "id": "z4k5y_mFz2BX",
        "outputId": "54784054-196b-4b1b-ca5e-aeb19f9472cc"
      },
      "execution_count": 27,
      "outputs": [
        {
          "output_type": "display_data",
          "data": {
            "text/plain": [
              "<Figure size 1000x600 with 1 Axes>"
            ],
            "image/png": "[encoded data removed]"
          },
          "metadata": {}
        }
      ]
    },
    {
      "cell_type": "markdown",
      "source": [
        "## **🔎Utilizando algunos modelos para hacer las primeras predicciones**"
      ],
      "metadata": {
        "id": "8zQGzQW5Xz3n"
      }
    },
    {
      "cell_type": "markdown",
      "source": [
        "Los pesos, $w_i$, se pueden encontrar en el archivo items.csv (consultar la página de Datos). Los artículos perecederos tienen un peso de 1.25, mientras que todos los demás artículos tienen un peso de 1.00."
      ],
      "metadata": {
        "id": "itclO7IBU2DN"
      }
    },
    {
      "cell_type": "code",
      "source": [
        "# Convertir las claves en train_store_state a cadenas\n",
        "train_store_state['item_nbr'] = train_store_state['item_nbr'].astype(str)\n",
        "\n",
        "# Asegurarse de que las claves en items sean cadenas\n",
        "items.index = items.index.astype(str)\n",
        "\n",
        "# Verificar las claves comunes\n",
        "common_keys = set(train_store_state['item_nbr']).intersection(set(items.index))\n",
        "print(\"Common Keys:\", common_keys)\n",
        "\n",
        "# Crear el diccionario de pesos ahora\n",
        "weights_dict = {item_nbr: 1.25 if perishable == 1 else 1.00 for item_nbr, perishable in zip(train_store_state['item_nbr'], items['perishable'])}"
      ],
      "metadata": {
        "colab": {
          "base_uri": "https://localhost:8080/"
        },
        "id": "UZimvVH_ZkhT",
        "outputId": "d0ce9d67-017b-4a57-f063-dff92aa5a10d"
      },
      "execution_count": 28,
      "outputs": [
        {
          "output_type": "stream",
          "name": "stdout",
          "text": [
            "Common Keys: set()\n"
          ]
        }
      ]
    },
    {
      "cell_type": "markdown",
      "source": [
        "Quiero utilizar la métrica de evaluación para saber cual es el rendimiento de los diferentes modelos que estoy probando."
      ],
      "metadata": {
        "id": "mOK7KmNuTv2z"
      }
    },
    {
      "cell_type": "code",
      "source": [
        "def calculate_nwrmsle(y_test, y_pred, weights, train_sample):\n",
        "    n = len(y_test)\n",
        "    squared_log_diff = np.log1p(y_test) - np.log1p(y_pred)\n",
        "    squared_log_diff = squared_log_diff ** 2\n",
        "\n",
        "    # Convertir squared_log_diff a un diccionario\n",
        "    squared_log_diff_dict = dict(zip(train_sample['item_nbr'], squared_log_diff))\n",
        "\n",
        "    # Convertir weights a un diccionario\n",
        "    weights_dict = dict(weights)\n",
        "\n",
        "    # Utilizar las claves del diccionario weights\n",
        "    weighted_squared_log_diff = [squared_log_diff_dict.get(str(item_nbr), 0.0) * weights_dict.get(str(item_nbr), 1.0) for item_nbr in train_sample['item_nbr']]\n",
        "\n",
        "    nwrmsle = np.sqrt(np.sum(weighted_squared_log_diff) / n)\n",
        "    return nwrmsle"
      ],
      "metadata": {
        "id": "x2zrDXADBNg-"
      },
      "execution_count": 29,
      "outputs": []
    },
    {
      "cell_type": "markdown",
      "source": [
        "Función que evalua el rendimiento utilizando los estadisticos (MAE, MSE) tanto para los datos de entrenamiento como para los de prueba"
      ],
      "metadata": {
        "id": "7Nb_lKThT5FS"
      }
    },
    {
      "cell_type": "code",
      "source": [
        "# Definiendo una función para evaluar el rendimiento de cada modelo a utilizar\n",
        "def checkModelPerformance(model, weights=None):\n",
        "  # Entrenar el modelo con los datos de entrenamiento\n",
        "  model.fit(X_train.values, y_train.values)\n",
        "\n",
        "  # Realizar predicciones en el conjunto de entrenamiento\n",
        "  train_predictions = model.predict(X_train.values)\n",
        "\n",
        "  # Calcular y mostrar el error cuadrático medio (MSE) de las predicciones en el conjunto de entrenamiento\n",
        "  train_mse = mean_squared_error(y_train.values, train_predictions)\n",
        "  print(\"Train Mean Squared Error (MSE): \", train_mse)\n",
        "\n",
        "  # Calcular y mostrar el error absoluto medio (MAE) de las predicciones en el conjunto de entrenamiento\n",
        "  train_mae = mean_absolute_error(y_train.values, train_predictions)\n",
        "  print(\"Train Mean Absolute Error (MAE): \", train_mae)\n",
        "\n",
        "  # Realizar predicciones en el conjunto de prueba\n",
        "  test_predictions = model.predict(X_test.values)\n",
        "\n",
        "  # Calcular y mostrar el error cuadrático medio (MSE) de las predicciones en el conjunto de prueba\n",
        "  test_mse = mean_squared_error(y_test.values, test_predictions)\n",
        "  print(\"Test Mean Squared Error (MSE): \", test_mse)\n",
        "\n",
        "  # Calcular y mostrar el error absoluto medio (MAE) de las predicciones en el conjunto de prueba\n",
        "  test_mae = mean_absolute_error(y_test.values, test_predictions)\n",
        "  print(\"Test Mean Absolute Error (MAE): \", test_mae)\n",
        "\n",
        "  # Calcular y mostrar el nwrmsle\n",
        "  if weights is not None:\n",
        "    nwrmsle = calculate_nwrmsle(y_test.values, test_predictions, weights, train_sample)\n",
        "    print(\"Test NWRMSLE: \", nwrmsle)"
      ],
      "metadata": {
        "id": "-ak81fCVw_fV"
      },
      "execution_count": 30,
      "outputs": []
    },
    {
      "cell_type": "markdown",
      "source": [
        "Entre menor sea el valor del estadistico de error [MAE], mejor será el modelo."
      ],
      "metadata": {
        "id": "RyBZK83ELmb6"
      }
    },
    {
      "cell_type": "code",
      "source": [
        "print(\"LinearRegression\")\n",
        "checkModelPerformance(LinearRegression(),weights_dict)"
      ],
      "metadata": {
        "id": "1f8iKu0ixGnc",
        "colab": {
          "base_uri": "https://localhost:8080/"
        },
        "outputId": "78d9991d-1df9-4313-99a4-4f200686f0d0"
      },
      "execution_count": 31,
      "outputs": [
        {
          "output_type": "stream",
          "name": "stdout",
          "text": [
            "LinearRegression\n",
            "Train Mean Squared Error (MSE):  171.23375676187766\n",
            "Train Mean Absolute Error (MAE):  5.485140867444853\n",
            "Test Mean Squared Error (MSE):  1.1709885047897924e+20\n",
            "Test Mean Absolute Error (MAE):  207656979.514016\n",
            "Test NWRMSLE:  nan\n"
          ]
        },
        {
          "output_type": "stream",
          "name": "stderr",
          "text": [
            "<ipython-input-29-24e3d5dc13df>:3: RuntimeWarning: invalid value encountered in log1p\n",
            "  squared_log_diff = np.log1p(y_test) - np.log1p(y_pred)\n"
          ]
        }
      ]
    },
    {
      "cell_type": "code",
      "source": [
        "print(\"ElasticNet\")\n",
        "checkModelPerformance(ElasticNet(),weights_dict)"
      ],
      "metadata": {
        "colab": {
          "base_uri": "https://localhost:8080/"
        },
        "id": "z4yOEIGaPoUS",
        "outputId": "4a067df5-c363-4e7a-8a27-1310e250c6f2"
      },
      "execution_count": 32,
      "outputs": [
        {
          "output_type": "stream",
          "name": "stdout",
          "text": [
            "ElasticNet\n",
            "Train Mean Squared Error (MSE):  179.22579953735274\n",
            "Train Mean Absolute Error (MAE):  5.508509555065091\n",
            "Test Mean Squared Error (MSE):  176.0717574844881\n",
            "Test Mean Absolute Error (MAE):  5.479703453054681\n",
            "Test NWRMSLE:  2.7510941675389295\n"
          ]
        }
      ]
    },
    {
      "cell_type": "code",
      "source": [
        "print(\"Ridge\")\n",
        "checkModelPerformance(Ridge(),weights_dict)"
      ],
      "metadata": {
        "colab": {
          "base_uri": "https://localhost:8080/"
        },
        "id": "Aa6nyRXgNq-h",
        "outputId": "25372811-448a-4316-ed0f-ed82f35349e8"
      },
      "execution_count": 22,
      "outputs": [
        {
          "output_type": "stream",
          "name": "stdout",
          "text": [
            "Ridge\n",
            "Train Mean Squared Error (MSE):  171.32580456309927\n",
            "Train Mean Absolute Error (MAE):  5.480453778097469\n",
            "Test Mean Squared Error (MSE):  185.44710283048812\n",
            "Test Mean Absolute Error (MAE):  5.7381569249241045\n",
            "Test NWRMSLE:  2.863855113504266\n"
          ]
        }
      ]
    },
    {
      "cell_type": "code",
      "source": [
        "print(\"Lasso\")\n",
        "checkModelPerformance(Lasso(),weights_dict)"
      ],
      "metadata": {
        "colab": {
          "base_uri": "https://localhost:8080/"
        },
        "id": "7zqfbsadpFC6",
        "outputId": "160e0d65-8035-489e-b306-f31dcd9ec84c"
      },
      "execution_count": 33,
      "outputs": [
        {
          "output_type": "stream",
          "name": "stdout",
          "text": [
            "Lasso\n",
            "Train Mean Squared Error (MSE):  179.22579953735274\n",
            "Train Mean Absolute Error (MAE):  5.508509555065091\n",
            "Test Mean Squared Error (MSE):  176.0717574844881\n",
            "Test Mean Absolute Error (MAE):  5.479703453054681\n",
            "Test NWRMSLE:  2.7510941675389295\n"
          ]
        }
      ]
    }
  ]
}