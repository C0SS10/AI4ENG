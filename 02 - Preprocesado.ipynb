{
  "nbformat": 4,
  "nbformat_minor": 0,
  "metadata": {
    "colab": {
      "provenance": [],
      "authorship_tag": "ABX9TyNeSGexlQ0fXWPl8LKg/MM1",
      "include_colab_link": true
    },
    "kernelspec": {
      "name": "python3",
      "display_name": "Python 3"
    },
    "language_info": {
      "name": "python"
    }
  },
  "cells": [
    {
      "cell_type": "markdown",
      "metadata": {
        "id": "view-in-github",
        "colab_type": "text"
      },
      "source": [
        "<a href=\"https://colab.research.google.com/github/E-CG/AI4ENG/blob/master/02%20-%20Preprocesado.ipynb\" target=\"_parent\"><img src=\"https://colab.research.google.com/assets/colab-badge.svg\" alt=\"Open In Colab\"/></a>"
      ]
    },
    {
      "cell_type": "markdown",
      "source": [
        "# **📦 Librerias y paquetes para la ejecución del notebook.**"
      ],
      "metadata": {
        "id": "SQMZNxAKf-DG"
      }
    },
    {
      "cell_type": "code",
      "source": [
        "! pip install py7zr"
      ],
      "metadata": {
        "id": "LIrDDyQt4B4c"
      },
      "execution_count": null,
      "outputs": []
    },
    {
      "cell_type": "code",
      "source": [
        "# Montar Google Drive\n",
        "from google.colab import drive\n",
        "drive.mount('/content/drive')"
      ],
      "metadata": {
        "id": "sjCzU3AA4EGH"
      },
      "execution_count": null,
      "outputs": []
    },
    {
      "cell_type": "code",
      "source": [
        "! pip install kaggle"
      ],
      "metadata": {
        "id": "c3cp8sLH4Hhb"
      },
      "execution_count": null,
      "outputs": []
    },
    {
      "cell_type": "code",
      "source": [
        "! mkdir ~/.kaggle\n",
        "# Aquí debes cambiar la dirección donde tengas tus credenciales de Kaggle\n",
        "! cp /content/drive/MyDrive/Modelos_I/credentials_kaggle/kaggle.json ~/.kaggle/kaggle.json"
      ],
      "metadata": {
        "id": "bnhCnURT4IRT"
      },
      "execution_count": 4,
      "outputs": []
    },
    {
      "cell_type": "code",
      "source": [
        "! kaggle competitions download favorita-grocery-sales-forecasting\n",
        "! unzip favorita-grocery-sales-forecasting.zip"
      ],
      "metadata": {
        "id": "k3V3m-V34IGr"
      },
      "execution_count": null,
      "outputs": []
    },
    {
      "cell_type": "code",
      "execution_count": 6,
      "metadata": {
        "id": "W3Q7y5Uyredt"
      },
      "outputs": [],
      "source": [
        "# Librerias uso básico\n",
        "import numpy as np\n",
        "import pandas as pd\n",
        "import math as m\n",
        "import time\n",
        "import py7zr\n",
        "import os\n",
        "from subprocess import check_output\n",
        "\n",
        "# Librerias preprocesado\n",
        "from mlxtend.preprocessing import minmax_scaling\n",
        "\n",
        "# Librerias para gráficar\n",
        "import seaborn as sns\n",
        "import matplotlib.pyplot as plt\n",
        "\n",
        "# Funciones de sklearn\n",
        "from sklearn.compose import ColumnTransformer\n",
        "from sklearn.pipeline import Pipeline, make_pipeline\n",
        "from sklearn.impute import SimpleImputer\n",
        "from sklearn.preprocessing import OneHotEncoder, StandardScaler\n",
        "from sklearn.tree import DecisionTreeRegressor\n",
        "from sklearn.base import BaseEstimator, TransformerMixin\n",
        "from sklearn.model_selection import train_test_split, GridSearchCV\n",
        "from sklearn.linear_model import LinearRegression,SGDRegressor,ElasticNet,Ridge\n",
        "from sklearn.svm import SVC\n",
        "from sklearn import linear_model\n",
        "from sklearn.ensemble import RandomForestRegressor\n",
        "from sklearn.metrics import mean_squared_error,mean_absolute_error"
      ]
    },
    {
      "cell_type": "markdown",
      "source": [
        "# **🗂️Leyendo y extrayendo los archivos .csv**"
      ],
      "metadata": {
        "id": "47YvvSlDf_V1"
      }
    },
    {
      "cell_type": "code",
      "source": [
        "# Ruta al archivo 7z en Google Drive\n",
        "sevenzip_file_path = '/content'\n",
        "\n",
        "# Directorio de destino para la extracción\n",
        "extracted_dir = '/content/extracted_data/'\n",
        "\n",
        "# Crear el directorio de destino si no existe\n",
        "os.makedirs(extracted_dir, exist_ok=True)\n",
        "\n",
        "# Listar los archivos .7z en el directorio de entrada\n",
        "files_to_extract = [file for file in os.listdir(sevenzip_file_path) if file.endswith('.7z')]\n",
        "\n",
        "# Iterar a través de los archivos y descomprimirlos\n",
        "for file_to_extract in files_to_extract:\n",
        "    with py7zr.SevenZipFile(os.path.join(sevenzip_file_path, file_to_extract), mode='r') as z:\n",
        "        z.extractall(path=extracted_dir)"
      ],
      "metadata": {
        "id": "BCCuI9R04NGr"
      },
      "execution_count": 7,
      "outputs": []
    },
    {
      "cell_type": "code",
      "source": [
        "test = pd.read_csv('/content/extracted_data/test.csv', usecols=[1, 2, 3, 4], parse_dates=[\"date\"])\n",
        "stores = pd.read_csv('/content/extracted_data/stores.csv')\n",
        "items = pd.read_csv('/content/extracted_data/items.csv')\n",
        "holidays_e = pd.read_csv('/content/extracted_data/holidays_events.csv', parse_dates=[\"date\"])\n",
        "transactions = pd.read_csv('/content/extracted_data/transactions.csv', parse_dates=[\"date\"])\n",
        "oil = pd.read_csv('/content/extracted_data/oil.csv')\n",
        "\n",
        "# Cargar el archivo de entrenamiento en chunks\n",
        "chunked_dfs = pd.read_csv(\"/content/extracted_data/train.csv\",\n",
        "                          chunksize=20000,\n",
        "                          usecols=[1, 2, 3, 4, 5],\n",
        "                          parse_dates=['date'],\n",
        "                          low_memory=False)\n",
        "\n",
        "print('Archivos cargados 🗞️✅')"
      ],
      "metadata": {
        "id": "Q02HSAsN4Rrc"
      },
      "execution_count": null,
      "outputs": []
    },
    {
      "cell_type": "markdown",
      "source": [
        "# **❌¿Qué archivos tienen datos nulos?**"
      ],
      "metadata": {
        "id": "Ya62btbjgNok"
      }
    },
    {
      "cell_type": "markdown",
      "source": [
        "🖊️ Se toma cada columna del dataframe en cuestion, se suman la cantidad de registros NaN y se convierte en un **porcentaje**. A cada columna se le saca tal porcentaje."
      ],
      "metadata": {
        "id": "pfodpXAhhVso"
      }
    },
    {
      "cell_type": "code",
      "source": [
        "oil_nan = (oil.isnull().sum() / oil.shape[0]) * 100\n",
        "oil_nan"
      ],
      "metadata": {
        "colab": {
          "base_uri": "https://localhost:8080/"
        },
        "id": "IeGTJKOAPc8T",
        "outputId": "46433aad-9053-4fa8-aaf3-265167139259"
      },
      "execution_count": null,
      "outputs": [
        {
          "output_type": "execute_result",
          "data": {
            "text/plain": [
              "date          0.000000\n",
              "dcoilwtico    3.530378\n",
              "dtype: float64"
            ]
          },
          "metadata": {},
          "execution_count": 10
        }
      ]
    },
    {
      "cell_type": "markdown",
      "source": [
        "Hay un 3.5% de datos faltantes en el archivo (oil.csv)"
      ],
      "metadata": {
        "id": "JWpoOz8FR04R"
      }
    },
    {
      "cell_type": "code",
      "source": [
        "store_nan = (stores.isnull().sum() / stores.shape[0]) * 100\n",
        "store_nan"
      ],
      "metadata": {
        "colab": {
          "base_uri": "https://localhost:8080/"
        },
        "id": "IfusvuMbR87_",
        "outputId": "35bbb8d6-e6b5-47bf-db3b-b81480f9ffb0"
      },
      "execution_count": null,
      "outputs": [
        {
          "output_type": "execute_result",
          "data": {
            "text/plain": [
              "store_nbr    0.0\n",
              "city         0.0\n",
              "state        0.0\n",
              "type         0.0\n",
              "cluster      0.0\n",
              "dtype: float64"
            ]
          },
          "metadata": {},
          "execution_count": 13
        }
      ]
    },
    {
      "cell_type": "markdown",
      "source": [
        "No hay datos faltantes en (stores.csv)"
      ],
      "metadata": {
        "id": "MMQexb4KhuFB"
      }
    },
    {
      "cell_type": "code",
      "source": [
        "item_nan = (items.isnull().sum() / items.shape[0]) * 100\n",
        "item_nan"
      ],
      "metadata": {
        "colab": {
          "base_uri": "https://localhost:8080/"
        },
        "id": "MrxJ-uYAVDPx",
        "outputId": "fc748161-6764-46a5-ef35-0f03da7f7460"
      },
      "execution_count": null,
      "outputs": [
        {
          "output_type": "execute_result",
          "data": {
            "text/plain": [
              "item_nbr      0.0\n",
              "family        0.0\n",
              "class         0.0\n",
              "perishable    0.0\n",
              "dtype: float64"
            ]
          },
          "metadata": {},
          "execution_count": 14
        }
      ]
    },
    {
      "cell_type": "markdown",
      "source": [
        "No hay datos faltantes en (items.csv)"
      ],
      "metadata": {
        "id": "iE8ySU4qhzH7"
      }
    },
    {
      "cell_type": "code",
      "source": [
        "holiday_nan = (holidays_e.isnull().sum() / holidays_e.shape[0]) * 100\n",
        "holiday_nan"
      ],
      "metadata": {
        "colab": {
          "base_uri": "https://localhost:8080/"
        },
        "id": "dXN_5LowiodF",
        "outputId": "da13621c-03fa-408b-9b4e-814418082997"
      },
      "execution_count": null,
      "outputs": [
        {
          "output_type": "execute_result",
          "data": {
            "text/plain": [
              "date           0.0\n",
              "type           0.0\n",
              "locale         0.0\n",
              "locale_name    0.0\n",
              "description    0.0\n",
              "transferred    0.0\n",
              "dtype: float64"
            ]
          },
          "metadata": {},
          "execution_count": 9
        }
      ]
    },
    {
      "cell_type": "markdown",
      "source": [
        "No hay datos nulo en el archivo (holidays_events.csv)"
      ],
      "metadata": {
        "id": "V-xEPFzKod73"
      }
    },
    {
      "cell_type": "code",
      "source": [
        "tran_nan = (transactions.isnull().sum() / transactions.shape[0]) * 100\n",
        "tran_nan"
      ],
      "metadata": {
        "colab": {
          "base_uri": "https://localhost:8080/"
        },
        "id": "30c0tYWuiwZ5",
        "outputId": "cc2de6a9-5259-4b9e-fb5e-fd36ceb4cfa8"
      },
      "execution_count": null,
      "outputs": [
        {
          "output_type": "execute_result",
          "data": {
            "text/plain": [
              "date            0.0\n",
              "store_nbr       0.0\n",
              "transactions    0.0\n",
              "dtype: float64"
            ]
          },
          "metadata": {},
          "execution_count": 10
        }
      ]
    },
    {
      "cell_type": "markdown",
      "source": [
        "No hay datos faltantes en (transactions.csv)"
      ],
      "metadata": {
        "id": "aDerSZvNojXW"
      }
    },
    {
      "cell_type": "markdown",
      "source": [
        "# **🦾Primer condicionamiento del modelo**"
      ],
      "metadata": {
        "id": "IPbxvbgkgV7S"
      }
    },
    {
      "cell_type": "markdown",
      "source": [
        "Tomar 1 tienda por estado en las fechas mayores a 2016 y predecir las ventas unitarias de todos los productos."
      ],
      "metadata": {
        "id": "ZY1IKwvBZ6zP"
      }
    },
    {
      "cell_type": "code",
      "source": [
        "# Agrupar por estado y obtener el primer store_nbr en cada estado\n",
        "tienda_por_estado = stores.groupby('state')['store_nbr'].first()\n",
        "tienda_por_estado"
      ],
      "metadata": {
        "id": "0dYx3fJyZrm8"
      },
      "execution_count": null,
      "outputs": []
    },
    {
      "cell_type": "code",
      "source": [
        "# Inicializar una lista para almacenar los DataFrames filtrados\n",
        "datos_filtrados = []\n",
        "\n",
        "# Iterar a través de los chunks\n",
        "for chunk in chunked_dfs:\n",
        "    # Crear una máscara booleana para las tiendas seleccionadas\n",
        "    mask_tiendas = chunk['store_nbr'].isin(stores['store_nbr'])\n",
        "    # Crear una máscara booleana para las fechas entre 2016-01-01 a 2016-12-31\n",
        "    mask = (chunk['date'] >= '2016-01-01') & (chunk['date'] <= '2016-12-31') & chunk['store_nbr'].isin(tienda_por_estado)\n",
        "\n",
        "    # Aplicar la máscara y agregar las filas filtradas a la lista\n",
        "    trozo_filtrado = chunk[mask]\n",
        "    datos_filtrados.append(trozo_filtrado)\n",
        "\n",
        "# Concatenar los DataFrames filtrados en uno solo\n",
        "train_store_state = pd.concat(datos_filtrados, ignore_index=True)"
      ],
      "metadata": {
        "id": "41bFYCaWWNqs"
      },
      "execution_count": 16,
      "outputs": []
    },
    {
      "cell_type": "code",
      "source": [
        "train_nan = (train_store_state.isnull().sum() / train_store_state.shape[0]) * 100\n",
        "train_nan"
      ],
      "metadata": {
        "colab": {
          "base_uri": "https://localhost:8080/"
        },
        "id": "AivovsRBWhpB",
        "outputId": "9eb1c2a9-59e0-4834-ad1b-1c09366b45f7"
      },
      "execution_count": null,
      "outputs": [
        {
          "output_type": "execute_result",
          "data": {
            "text/plain": [
              "date           0.0\n",
              "store_nbr      0.0\n",
              "item_nbr       0.0\n",
              "unit_sales     0.0\n",
              "onpromotion    0.0\n",
              "dtype: float64"
            ]
          },
          "metadata": {},
          "execution_count": 16
        }
      ]
    },
    {
      "cell_type": "markdown",
      "source": [
        "No hay datos nulos en el dataframe de entrenamiento"
      ],
      "metadata": {
        "id": "tPOCSRRzb5na"
      }
    },
    {
      "cell_type": "code",
      "source": [
        "train_store_state['onpromotion'] = train_store_state['onpromotion'].replace(True,1)\n",
        "train_store_state['onpromotion'] = train_store_state['onpromotion'].replace(False,0)"
      ],
      "metadata": {
        "id": "ec7IQguTaOS-"
      },
      "execution_count": null,
      "outputs": []
    },
    {
      "cell_type": "markdown",
      "source": [
        "## **📄Juntando los demás archivos en train.csv**"
      ],
      "metadata": {
        "id": "hjfgQOiFglzI"
      }
    },
    {
      "cell_type": "code",
      "source": [
        "train_store_state = pd.merge(train_store_state, stores, on='store_nbr')\n",
        "train_store_state = pd.merge(train_store_state, items, on='item_nbr')\n",
        "train_store_state = pd.merge(train_store_state, holidays_e, on='date')\n",
        "train_store_state = pd.merge(train_store_state, oil, on='date')\n",
        "train_store_state = pd.merge(train_store_state, transactions, on='date')"
      ],
      "metadata": {
        "id": "ASfgJN_Pg68d"
      },
      "execution_count": null,
      "outputs": []
    },
    {
      "cell_type": "markdown",
      "source": [
        "# **🦾Segunda opción de condicionamiento del modelo**"
      ],
      "metadata": {
        "id": "P5hEYf-DatQq"
      }
    },
    {
      "cell_type": "markdown",
      "source": [
        "Tomar solo las tiendas con menores transacciones. (menores a la media), para predecir las ventas unitarias de cada producto"
      ],
      "metadata": {
        "id": "HNu-CGRQcDNl"
      }
    },
    {
      "cell_type": "code",
      "source": [
        "len(stores['store_nbr'].unique())"
      ],
      "metadata": {
        "id": "AQKTCZ4SlyIF"
      },
      "execution_count": null,
      "outputs": []
    },
    {
      "cell_type": "code",
      "source": [
        "# Calcular la media de transacciones\n",
        "media_transacciones = transactions['transactions'].mean()\n",
        "\n",
        "# Filtrar las tiendas con transacciones por debajo de la media\n",
        "tiendas_por_debajo_de_la_media = transactions[transactions['transactions'] < media_transacciones]\n",
        "\n",
        "# Obtener las tiendas únicas que cumplen con el criterio\n",
        "tiendas_unicas_media = tiendas_por_debajo_de_la_media['store_nbr'].unique()\n",
        "len(tiendas_unicas_media)"
      ],
      "metadata": {
        "id": "wJVi1IeghoyH"
      },
      "execution_count": null,
      "outputs": []
    },
    {
      "cell_type": "code",
      "source": [
        "# Inicializar una lista para almacenar los DataFrames filtrados\n",
        "datos_store_tran = []\n",
        "\n",
        "# Iterar a través de los chunks\n",
        "for chunk in chunked_dfs:\n",
        "    # Crear una máscara booleana para las tiendas seleccionadas\n",
        "    mask_tiendas = chunk['store_nbr'].isin(stores['store_nbr'])\n",
        "    # Crear una máscara booleana para las fechas entre 2016-01-01 a 2016-12-31\n",
        "    mask = (chunk['date'] >= '2016-01-01') & (chunk['date'] <= '2016-12-31') & chunk['store_nbr'].isin(tiendas_unicas_media)\n",
        "\n",
        "    # Aplicar la máscara y agregar las filas filtradas a la lista\n",
        "    trozo_filtrado = chunk[mask]\n",
        "    datos_store_tran.append(trozo_filtrado)\n",
        "\n",
        "# Concatenar los DataFrames filtrados en uno solo\n",
        "train_store_tran = pd.concat(datos_store_tran, ignore_index=True)"
      ],
      "metadata": {
        "id": "SR52lrT-axko"
      },
      "execution_count": 31,
      "outputs": []
    },
    {
      "cell_type": "code",
      "source": [
        "train_store_tran"
      ],
      "metadata": {
        "id": "IlMlkqWKm2aQ"
      },
      "execution_count": null,
      "outputs": []
    },
    {
      "cell_type": "code",
      "source": [
        "len(train_store_tran['store_nbr'].unique())"
      ],
      "metadata": {
        "id": "2lvrCmmTneK3"
      },
      "execution_count": null,
      "outputs": []
    },
    {
      "cell_type": "markdown",
      "source": [
        "# **🦾Tercera opción de condicionamiento del modelo**"
      ],
      "metadata": {
        "id": "YgshZLkcdaUJ"
      }
    },
    {
      "cell_type": "markdown",
      "source": [
        "Todas las tiendas pero con una familia de productos perecederos. Predecir las ventas unitarias de la familia de producto que menos registro tiene."
      ],
      "metadata": {
        "id": "fYYQNwZFF1Tz"
      }
    },
    {
      "cell_type": "code",
      "source": [
        "# Filtrar los productos perecederos\n",
        "productos_perecederos = items[items['perishable'] == 0]\n",
        "\n",
        "# Obtener los números de los productos (item_nbr) perecederos\n",
        "item_nbr_perecederos = productos_perecederos['item_nbr'].unique()\n",
        "\n",
        "# Mostrar los números de los productos perecederos\n",
        "item_nbr_perecederos"
      ],
      "metadata": {
        "colab": {
          "base_uri": "https://localhost:8080/"
        },
        "id": "ujbQTwqN-Egn",
        "outputId": "ad0644b3-e594-4c68-bfbe-44fe10ab62b8"
      },
      "execution_count": 36,
      "outputs": [
        {
          "output_type": "execute_result",
          "data": {
            "text/plain": [
              "array([  96995,   99197,  103501, ..., 2132957, 2134058, 2134244])"
            ]
          },
          "metadata": {},
          "execution_count": 36
        }
      ]
    },
    {
      "cell_type": "code",
      "source": [
        "# Inicializar una lista para almacenar los DataFrames filtrados\n",
        "datos_fam_prod = []\n",
        "\n",
        "# Iterar a través de los chunks\n",
        "for chunk in chunked_dfs:\n",
        "    # Crear una máscara booleana para las tiendas seleccionadas\n",
        "    mask_tiendas = chunk['store_nbr'].isin(stores['store_nbr'])\n",
        "    # Crear una máscara booleana para las fechas entre 2016-01-01 a 2016-12-31\n",
        "    mask = (chunk['date'] >= '2016-01-01') & (chunk['date'] <= '2016-12-31') & chunk['item_nbr'].isin(item_nbr_perecederos)\n",
        "\n",
        "    # Aplicar la máscara y agregar las filas filtradas a la lista\n",
        "    trozo_filtrado = chunk[mask]\n",
        "    datos_fam_prod.append(trozo_filtrado)\n",
        "\n",
        "# Concatenar los DataFrames filtrados en uno solo\n",
        "train_fam = pd.concat(datos_fam_prod, ignore_index=True)"
      ],
      "metadata": {
        "id": "OGBXbIB_dlFd"
      },
      "execution_count": null,
      "outputs": []
    }
  ]
}