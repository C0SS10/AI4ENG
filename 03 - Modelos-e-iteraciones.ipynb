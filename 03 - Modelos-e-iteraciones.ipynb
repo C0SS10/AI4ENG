{
  "nbformat": 4,
  "nbformat_minor": 0,
  "metadata": {
    "colab": {
      "provenance": [],
      "authorship_tag": "ABX9TyO7N7ZjJS32CsDQijtgTB20",
      "include_colab_link": true
    },
    "kernelspec": {
      "name": "python3",
      "display_name": "Python 3"
    },
    "language_info": {
      "name": "python"
    }
  },
  "cells": [
    {
      "cell_type": "markdown",
      "metadata": {
        "id": "view-in-github",
        "colab_type": "text"
      },
      "source": [
        "<a href=\"https://colab.research.google.com/github/E-CG/AI4ENG/blob/master/3%20-%20Modelos-e-iteraciones.ipynb\" target=\"_parent\"><img src=\"https://colab.research.google.com/assets/colab-badge.svg\" alt=\"Open In Colab\"/></a>"
      ]
    },
    {
      "cell_type": "markdown",
      "source": [
        "# **📦 Librerias y paquetes para la ejecución del notebook.**"
      ],
      "metadata": {
        "id": "SQMZNxAKf-DG"
      }
    },
    {
      "cell_type": "code",
      "source": [
        "! pip install py7zr"
      ],
      "metadata": {
        "id": "LIrDDyQt4B4c"
      },
      "execution_count": null,
      "outputs": []
    },
    {
      "cell_type": "code",
      "source": [
        "# Montar Google Drive\n",
        "from google.colab import drive\n",
        "drive.mount('/content/drive')"
      ],
      "metadata": {
        "id": "sjCzU3AA4EGH"
      },
      "execution_count": null,
      "outputs": []
    },
    {
      "cell_type": "code",
      "source": [
        "! pip install kaggle"
      ],
      "metadata": {
        "id": "c3cp8sLH4Hhb"
      },
      "execution_count": null,
      "outputs": []
    },
    {
      "cell_type": "code",
      "source": [
        "! mkdir ~/.kaggle\n",
        "# Aquí debes cambiar la dirección donde tengas tus credenciales de Kaggle\n",
        "! cp /content/drive/MyDrive/Modelos_I/credentials_kaggle/kaggle.json ~/.kaggle/kaggle.json"
      ],
      "metadata": {
        "id": "bnhCnURT4IRT"
      },
      "execution_count": null,
      "outputs": []
    },
    {
      "cell_type": "code",
      "source": [
        "! kaggle competitions download favorita-grocery-sales-forecasting\n",
        "! unzip favorita-grocery-sales-forecasting.zip"
      ],
      "metadata": {
        "id": "k3V3m-V34IGr"
      },
      "execution_count": null,
      "outputs": []
    },
    {
      "cell_type": "code",
      "execution_count": null,
      "metadata": {
        "id": "W3Q7y5Uyredt"
      },
      "outputs": [],
      "source": [
        "# Librerias uso básico\n",
        "import numpy as np\n",
        "import pandas as pd\n",
        "import math as m\n",
        "import time\n",
        "import py7zr\n",
        "import os\n",
        "from subprocess import check_output\n",
        "\n",
        "# Librerias preprocesado\n",
        "from mlxtend.preprocessing import minmax_scaling\n",
        "\n",
        "# Librerias para gráficar\n",
        "import seaborn as sns\n",
        "import matplotlib.pyplot as plt\n",
        "\n",
        "# Funciones de sklearn\n",
        "from sklearn.compose import ColumnTransformer\n",
        "from sklearn.pipeline import Pipeline, make_pipeline\n",
        "from sklearn.impute import SimpleImputer\n",
        "from sklearn.preprocessing import OneHotEncoder, StandardScaler\n",
        "from sklearn.tree import DecisionTreeRegressor\n",
        "from sklearn.base import BaseEstimator, TransformerMixin\n",
        "from sklearn.model_selection import train_test_split, GridSearchCV\n",
        "from sklearn.linear_model import LinearRegression,ElasticNet,Ridge,Lasso\n",
        "from sklearn.svm import SVC\n",
        "from sklearn import linear_model\n",
        "from sklearn.ensemble import RandomForestRegressor\n",
        "from sklearn.metrics import mean_squared_error,mean_absolute_error"
      ]
    }
  ]
}
