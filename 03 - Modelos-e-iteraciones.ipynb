{
  "nbformat": 4,
  "nbformat_minor": 0,
  "metadata": {
    "colab": {
      "provenance": [],
      "collapsed_sections": [
        "SQMZNxAKf-DG",
        "47YvvSlDf_V1",
        "hjfgQOiFglzI",
        "8zQGzQW5Xz3n"
      ],
      "authorship_tag": "ABX9TyNj8ddest2SEuog8ifb/fEs",
      "include_colab_link": true
    },
    "kernelspec": {
      "name": "python3",
      "display_name": "Python 3"
    },
    "language_info": {
      "name": "python"
    }
  },
  "cells": [
    {
      "cell_type": "markdown",
      "metadata": {
        "id": "view-in-github",
        "colab_type": "text"
      },
      "source": [
        "<a href=\"https://colab.research.google.com/github/E-CG/AI4ENG/blob/master/03%20-%20Modelos-e-iteraciones.ipynb\" target=\"_parent\"><img src=\"https://colab.research.google.com/assets/colab-badge.svg\" alt=\"Open In Colab\"/></a>"
      ]
    },
    {
      "cell_type": "markdown",
      "source": [
        "## **📦 Librerias y paquetes para la ejecución del notebook.**"
      ],
      "metadata": {
        "id": "SQMZNxAKf-DG"
      }
    },
    {
      "cell_type": "code",
      "source": [
        "! pip install py7zr"
      ],
      "metadata": {
        "id": "LIrDDyQt4B4c"
      },
      "execution_count": null,
      "outputs": []
    },
    {
      "cell_type": "code",
      "source": [
        "# Montar Google Drive\n",
        "from google.colab import drive\n",
        "drive.mount('/content/drive')"
      ],
      "metadata": {
        "id": "sjCzU3AA4EGH"
      },
      "execution_count": null,
      "outputs": []
    },
    {
      "cell_type": "code",
      "source": [
        "! pip install kaggle"
      ],
      "metadata": {
        "id": "c3cp8sLH4Hhb"
      },
      "execution_count": null,
      "outputs": []
    },
    {
      "cell_type": "code",
      "source": [
        "! mkdir ~/.kaggle\n",
        "# Aquí debes cambiar la dirección donde tengas tus credenciales de Kaggle\n",
        "! cp /content/drive/MyDrive/Modelos_I/credentials_kaggle/kaggle.json ~/.kaggle/kaggle.json"
      ],
      "metadata": {
        "id": "bnhCnURT4IRT"
      },
      "execution_count": null,
      "outputs": []
    },
    {
      "cell_type": "code",
      "source": [
        "! kaggle competitions download favorita-grocery-sales-forecasting\n",
        "! unzip favorita-grocery-sales-forecasting.zip"
      ],
      "metadata": {
        "id": "k3V3m-V34IGr",
        "colab": {
          "base_uri": "https://localhost:8080/"
        },
        "outputId": "39e43da8-55f2-4391-cafc-31370cc99489"
      },
      "execution_count": 5,
      "outputs": [
        {
          "metadata": {
            "tags": null
          },
          "name": "stdout",
          "output_type": "stream",
          "text": [
            "favorita-grocery-sales-forecasting.zip: Skipping, found more recently modified local copy (use --force to force download)\n",
            "Archive:  favorita-grocery-sales-forecasting.zip\n",
            "replace holidays_events.csv.7z? [y]es, [n]o, [A]ll, [N]one, [r]ename: "
          ]
        }
      ]
    },
    {
      "cell_type": "code",
      "execution_count": 6,
      "metadata": {
        "id": "W3Q7y5Uyredt"
      },
      "outputs": [],
      "source": [
        "# Librerias uso básico\n",
        "import numpy as np\n",
        "import pandas as pd\n",
        "import math as m\n",
        "import time\n",
        "import py7zr\n",
        "import os\n",
        "from subprocess import check_output\n",
        "\n",
        "# Librerias preprocesado\n",
        "from mlxtend.preprocessing import minmax_scaling\n",
        "import datetime as dt\n",
        "\n",
        "# Librerias para gráficar\n",
        "import seaborn as sns\n",
        "import matplotlib.pyplot as plt\n",
        "\n",
        "# Funciones de sklearn\n",
        "from sklearn.compose import ColumnTransformer\n",
        "from sklearn.pipeline import Pipeline, make_pipeline\n",
        "from sklearn.impute import SimpleImputer\n",
        "from sklearn.preprocessing import OneHotEncoder, StandardScaler\n",
        "from sklearn.tree import DecisionTreeRegressor\n",
        "from sklearn.base import BaseEstimator, TransformerMixin\n",
        "from sklearn.model_selection import train_test_split, GridSearchCV\n",
        "from sklearn.linear_model import LinearRegression,ElasticNet,Ridge,Lasso\n",
        "from sklearn.svm import SVC\n",
        "from sklearn import linear_model\n",
        "from sklearn.ensemble import RandomForestRegressor\n",
        "from sklearn.metrics import mean_squared_error,mean_absolute_error"
      ]
    },
    {
      "cell_type": "markdown",
      "source": [
        "## **🗂️Leyendo y extrayendo los archivos .csv**"
      ],
      "metadata": {
        "id": "47YvvSlDf_V1"
      }
    },
    {
      "cell_type": "code",
      "source": [
        "# Ruta al archivo 7z en Google Drive\n",
        "sevenzip_file_path = '/content'\n",
        "\n",
        "# Directorio de destino para la extracción\n",
        "extracted_dir = '/content/extracted_data/'\n",
        "\n",
        "# Crear el directorio de destino si no existe\n",
        "os.makedirs(extracted_dir, exist_ok=True)\n",
        "\n",
        "# Listar los archivos .7z en el directorio de entrada\n",
        "files_to_extract = [file for file in os.listdir(sevenzip_file_path) if file.endswith('.7z')]\n",
        "\n",
        "# Iterar a través de los archivos y descomprimirlos\n",
        "for file_to_extract in files_to_extract:\n",
        "    with py7zr.SevenZipFile(os.path.join(sevenzip_file_path, file_to_extract), mode='r') as z:\n",
        "        z.extractall(path=extracted_dir)"
      ],
      "metadata": {
        "id": "BCCuI9R04NGr"
      },
      "execution_count": 7,
      "outputs": []
    },
    {
      "cell_type": "code",
      "source": [
        "stores = pd.read_csv('/content/extracted_data/stores.csv')\n",
        "items = pd.read_csv('/content/extracted_data/items.csv')\n",
        "holidays_e = pd.read_csv('/content/extracted_data/holidays_events.csv', parse_dates=[\"date\"])\n",
        "transactions = pd.read_csv('/content/extracted_data/transactions.csv', parse_dates=[\"date\"])\n",
        "oil = pd.read_csv('/content/extracted_data/oil.csv', parse_dates=[\"date\"])\n",
        "\n",
        "# Cargar el archivo de entrenamiento en chunks\n",
        "chunked_dfs = pd.read_csv(\"/content/extracted_data/train.csv\",\n",
        "                          chunksize=20000,\n",
        "                          usecols=[0,1,2,3,4,5],\n",
        "                          parse_dates=['date'],\n",
        "                          low_memory=False)\n",
        "\n",
        "print('Archivos cargados 🗞️✅')"
      ],
      "metadata": {
        "id": "Q02HSAsN4Rrc",
        "colab": {
          "base_uri": "https://localhost:8080/"
        },
        "outputId": "499e4035-f5c9-4bb8-8c2f-01d3cc74de96"
      },
      "execution_count": 8,
      "outputs": [
        {
          "output_type": "stream",
          "name": "stdout",
          "text": [
            "Archivos cargados 🗞️✅\n"
          ]
        }
      ]
    },
    {
      "cell_type": "code",
      "source": [
        "# Agrupar por estado y obtener el primer store_nbr en cada estado\n",
        "tienda_por_estado = stores.groupby('state')['store_nbr'].first()\n",
        "tienda_por_estado"
      ],
      "metadata": {
        "id": "0dYx3fJyZrm8",
        "colab": {
          "base_uri": "https://localhost:8080/"
        },
        "outputId": "a8e174f2-a17c-41b9-ac5a-fa15d692ec43"
      },
      "execution_count": 9,
      "outputs": [
        {
          "output_type": "execute_result",
          "data": {
            "text/plain": [
              "state\n",
              "Azuay                             37\n",
              "Bolivar                           19\n",
              "Chimborazo                        14\n",
              "Cotopaxi                          12\n",
              "El Oro                            40\n",
              "Esmeraldas                        43\n",
              "Guayas                            24\n",
              "Imbabura                          15\n",
              "Loja                              38\n",
              "Los Rios                          31\n",
              "Manabi                            52\n",
              "Pastaza                           22\n",
              "Pichincha                          1\n",
              "Santa Elena                       25\n",
              "Santo Domingo de los Tsachilas     5\n",
              "Tungurahua                        23\n",
              "Name: store_nbr, dtype: int64"
            ]
          },
          "metadata": {},
          "execution_count": 9
        }
      ]
    },
    {
      "cell_type": "code",
      "source": [
        "# Inicializar una lista para almacenar los DataFrames filtrados\n",
        "datos_filtrados = []\n",
        "\n",
        "# Iterar a través de los chunks\n",
        "for chunk in chunked_dfs:\n",
        "    # Crear una máscara booleana para las tiendas seleccionadas\n",
        "    mask_tiendas = chunk['store_nbr'].isin(stores['store_nbr'])\n",
        "    # Crear una máscara booleana para las fechas entre 2016-01-01 a 2016-12-31\n",
        "    mask_fechas = (chunk['date'] >= '2016-01-01') & (chunk['date'] <= '2016-12-31')\n",
        "    # Aplicar ambas máscaras\n",
        "    mask = mask_tiendas & mask_fechas\n",
        "\n",
        "    # Aplicar la máscara y agregar las filas filtradas a la lista\n",
        "    trozo_filtrado = chunk[mask]\n",
        "    datos_filtrados.append(trozo_filtrado)\n",
        "\n",
        "# Concatenar los DataFrames filtrados en uno solo\n",
        "train_store_state = pd.concat(datos_filtrados, ignore_index=True)"
      ],
      "metadata": {
        "id": "41bFYCaWWNqs"
      },
      "execution_count": 10,
      "outputs": []
    },
    {
      "cell_type": "code",
      "source": [
        "train_store_state.head(3)"
      ],
      "metadata": {
        "colab": {
          "base_uri": "https://localhost:8080/",
          "height": 143
        },
        "id": "7t0IyD6Sd7nH",
        "outputId": "cec4c08e-7117-4f47-be78-20816ae71f33"
      },
      "execution_count": 11,
      "outputs": [
        {
          "output_type": "execute_result",
          "data": {
            "text/plain": [
              "         id       date  store_nbr  item_nbr  unit_sales onpromotion\n",
              "0  66458908 2016-01-01         25    105574        12.0       False\n",
              "1  66458909 2016-01-01         25    105575         9.0       False\n",
              "2  66458910 2016-01-01         25    105857         3.0       False"
            ],
            "text/html": [
              "\n",
              "  <div id=\"df-934a5910-9d72-447b-a97e-8d71cf624d99\" class=\"colab-df-container\">\n",
              "    <div>\n",
              "<style scoped>\n",
              "    .dataframe tbody tr th:only-of-type {\n",
              "        vertical-align: middle;\n",
              "    }\n",
              "\n",
              "    .dataframe tbody tr th {\n",
              "        vertical-align: top;\n",
              "    }\n",
              "\n",
              "    .dataframe thead th {\n",
              "        text-align: right;\n",
              "    }\n",
              "</style>\n",
              "<table border=\"1\" class=\"dataframe\">\n",
              "  <thead>\n",
              "    <tr style=\"text-align: right;\">\n",
              "      <th></th>\n",
              "      <th>id</th>\n",
              "      <th>date</th>\n",
              "      <th>store_nbr</th>\n",
              "      <th>item_nbr</th>\n",
              "      <th>unit_sales</th>\n",
              "      <th>onpromotion</th>\n",
              "    </tr>\n",
              "  </thead>\n",
              "  <tbody>\n",
              "    <tr>\n",
              "      <th>0</th>\n",
              "      <td>66458908</td>\n",
              "      <td>2016-01-01</td>\n",
              "      <td>25</td>\n",
              "      <td>105574</td>\n",
              "      <td>12.0</td>\n",
              "      <td>False</td>\n",
              "    </tr>\n",
              "    <tr>\n",
              "      <th>1</th>\n",
              "      <td>66458909</td>\n",
              "      <td>2016-01-01</td>\n",
              "      <td>25</td>\n",
              "      <td>105575</td>\n",
              "      <td>9.0</td>\n",
              "      <td>False</td>\n",
              "    </tr>\n",
              "    <tr>\n",
              "      <th>2</th>\n",
              "      <td>66458910</td>\n",
              "      <td>2016-01-01</td>\n",
              "      <td>25</td>\n",
              "      <td>105857</td>\n",
              "      <td>3.0</td>\n",
              "      <td>False</td>\n",
              "    </tr>\n",
              "  </tbody>\n",
              "</table>\n",
              "</div>\n",
              "    <div class=\"colab-df-buttons\">\n",
              "\n",
              "  <div class=\"colab-df-container\">\n",
              "    <button class=\"colab-df-convert\" onclick=\"convertToInteractive('df-934a5910-9d72-447b-a97e-8d71cf624d99')\"\n",
              "            title=\"Convert this dataframe to an interactive table.\"\n",
              "            style=\"display:none;\">\n",
              "\n",
              "  <svg xmlns=\"http://www.w3.org/2000/svg\" height=\"24px\" viewBox=\"0 -960 960 960\">\n",
              "    <path d=\"M120-120v-720h720v720H120Zm60-500h600v-160H180v160Zm220 220h160v-160H400v160Zm0 220h160v-160H400v160ZM180-400h160v-160H180v160Zm440 0h160v-160H620v160ZM180-180h160v-160H180v160Zm440 0h160v-160H620v160Z\"/>\n",
              "  </svg>\n",
              "    </button>\n",
              "\n",
              "  <style>\n",
              "    .colab-df-container {\n",
              "      display:flex;\n",
              "      gap: 12px;\n",
              "    }\n",
              "\n",
              "    .colab-df-convert {\n",
              "      background-color: #E8F0FE;\n",
              "      border: none;\n",
              "      border-radius: 50%;\n",
              "      cursor: pointer;\n",
              "      display: none;\n",
              "      fill: #1967D2;\n",
              "      height: 32px;\n",
              "      padding: 0 0 0 0;\n",
              "      width: 32px;\n",
              "    }\n",
              "\n",
              "    .colab-df-convert:hover {\n",
              "      background-color: #E2EBFA;\n",
              "      box-shadow: 0px 1px 2px rgba(60, 64, 67, 0.3), 0px 1px 3px 1px rgba(60, 64, 67, 0.15);\n",
              "      fill: #174EA6;\n",
              "    }\n",
              "\n",
              "    .colab-df-buttons div {\n",
              "      margin-bottom: 4px;\n",
              "    }\n",
              "\n",
              "    [theme=dark] .colab-df-convert {\n",
              "      background-color: #3B4455;\n",
              "      fill: #D2E3FC;\n",
              "    }\n",
              "\n",
              "    [theme=dark] .colab-df-convert:hover {\n",
              "      background-color: #434B5C;\n",
              "      box-shadow: 0px 1px 3px 1px rgba(0, 0, 0, 0.15);\n",
              "      filter: drop-shadow(0px 1px 2px rgba(0, 0, 0, 0.3));\n",
              "      fill: #FFFFFF;\n",
              "    }\n",
              "  </style>\n",
              "\n",
              "    <script>\n",
              "      const buttonEl =\n",
              "        document.querySelector('#df-934a5910-9d72-447b-a97e-8d71cf624d99 button.colab-df-convert');\n",
              "      buttonEl.style.display =\n",
              "        google.colab.kernel.accessAllowed ? 'block' : 'none';\n",
              "\n",
              "      async function convertToInteractive(key) {\n",
              "        const element = document.querySelector('#df-934a5910-9d72-447b-a97e-8d71cf624d99');\n",
              "        const dataTable =\n",
              "          await google.colab.kernel.invokeFunction('convertToInteractive',\n",
              "                                                    [key], {});\n",
              "        if (!dataTable) return;\n",
              "\n",
              "        const docLinkHtml = 'Like what you see? Visit the ' +\n",
              "          '<a target=\"_blank\" href=https://colab.research.google.com/notebooks/data_table.ipynb>data table notebook</a>'\n",
              "          + ' to learn more about interactive tables.';\n",
              "        element.innerHTML = '';\n",
              "        dataTable['output_type'] = 'display_data';\n",
              "        await google.colab.output.renderOutput(dataTable, element);\n",
              "        const docLink = document.createElement('div');\n",
              "        docLink.innerHTML = docLinkHtml;\n",
              "        element.appendChild(docLink);\n",
              "      }\n",
              "    </script>\n",
              "  </div>\n",
              "\n",
              "\n",
              "<div id=\"df-3140fa49-19e8-401d-8297-f040ce102ffb\">\n",
              "  <button class=\"colab-df-quickchart\" onclick=\"quickchart('df-3140fa49-19e8-401d-8297-f040ce102ffb')\"\n",
              "            title=\"Suggest charts.\"\n",
              "            style=\"display:none;\">\n",
              "\n",
              "<svg xmlns=\"http://www.w3.org/2000/svg\" height=\"24px\"viewBox=\"0 0 24 24\"\n",
              "     width=\"24px\">\n",
              "    <g>\n",
              "        <path d=\"M19 3H5c-1.1 0-2 .9-2 2v14c0 1.1.9 2 2 2h14c1.1 0 2-.9 2-2V5c0-1.1-.9-2-2-2zM9 17H7v-7h2v7zm4 0h-2V7h2v10zm4 0h-2v-4h2v4z\"/>\n",
              "    </g>\n",
              "</svg>\n",
              "  </button>\n",
              "\n",
              "<style>\n",
              "  .colab-df-quickchart {\n",
              "      --bg-color: #E8F0FE;\n",
              "      --fill-color: #1967D2;\n",
              "      --hover-bg-color: #E2EBFA;\n",
              "      --hover-fill-color: #174EA6;\n",
              "      --disabled-fill-color: #AAA;\n",
              "      --disabled-bg-color: #DDD;\n",
              "  }\n",
              "\n",
              "  [theme=dark] .colab-df-quickchart {\n",
              "      --bg-color: #3B4455;\n",
              "      --fill-color: #D2E3FC;\n",
              "      --hover-bg-color: #434B5C;\n",
              "      --hover-fill-color: #FFFFFF;\n",
              "      --disabled-bg-color: #3B4455;\n",
              "      --disabled-fill-color: #666;\n",
              "  }\n",
              "\n",
              "  .colab-df-quickchart {\n",
              "    background-color: var(--bg-color);\n",
              "    border: none;\n",
              "    border-radius: 50%;\n",
              "    cursor: pointer;\n",
              "    display: none;\n",
              "    fill: var(--fill-color);\n",
              "    height: 32px;\n",
              "    padding: 0;\n",
              "    width: 32px;\n",
              "  }\n",
              "\n",
              "  .colab-df-quickchart:hover {\n",
              "    background-color: var(--hover-bg-color);\n",
              "    box-shadow: 0 1px 2px rgba(60, 64, 67, 0.3), 0 1px 3px 1px rgba(60, 64, 67, 0.15);\n",
              "    fill: var(--button-hover-fill-color);\n",
              "  }\n",
              "\n",
              "  .colab-df-quickchart-complete:disabled,\n",
              "  .colab-df-quickchart-complete:disabled:hover {\n",
              "    background-color: var(--disabled-bg-color);\n",
              "    fill: var(--disabled-fill-color);\n",
              "    box-shadow: none;\n",
              "  }\n",
              "\n",
              "  .colab-df-spinner {\n",
              "    border: 2px solid var(--fill-color);\n",
              "    border-color: transparent;\n",
              "    border-bottom-color: var(--fill-color);\n",
              "    animation:\n",
              "      spin 1s steps(1) infinite;\n",
              "  }\n",
              "\n",
              "  @keyframes spin {\n",
              "    0% {\n",
              "      border-color: transparent;\n",
              "      border-bottom-color: var(--fill-color);\n",
              "      border-left-color: var(--fill-color);\n",
              "    }\n",
              "    20% {\n",
              "      border-color: transparent;\n",
              "      border-left-color: var(--fill-color);\n",
              "      border-top-color: var(--fill-color);\n",
              "    }\n",
              "    30% {\n",
              "      border-color: transparent;\n",
              "      border-left-color: var(--fill-color);\n",
              "      border-top-color: var(--fill-color);\n",
              "      border-right-color: var(--fill-color);\n",
              "    }\n",
              "    40% {\n",
              "      border-color: transparent;\n",
              "      border-right-color: var(--fill-color);\n",
              "      border-top-color: var(--fill-color);\n",
              "    }\n",
              "    60% {\n",
              "      border-color: transparent;\n",
              "      border-right-color: var(--fill-color);\n",
              "    }\n",
              "    80% {\n",
              "      border-color: transparent;\n",
              "      border-right-color: var(--fill-color);\n",
              "      border-bottom-color: var(--fill-color);\n",
              "    }\n",
              "    90% {\n",
              "      border-color: transparent;\n",
              "      border-bottom-color: var(--fill-color);\n",
              "    }\n",
              "  }\n",
              "</style>\n",
              "\n",
              "  <script>\n",
              "    async function quickchart(key) {\n",
              "      const quickchartButtonEl =\n",
              "        document.querySelector('#' + key + ' button');\n",
              "      quickchartButtonEl.disabled = true;  // To prevent multiple clicks.\n",
              "      quickchartButtonEl.classList.add('colab-df-spinner');\n",
              "      try {\n",
              "        const charts = await google.colab.kernel.invokeFunction(\n",
              "            'suggestCharts', [key], {});\n",
              "      } catch (error) {\n",
              "        console.error('Error during call to suggestCharts:', error);\n",
              "      }\n",
              "      quickchartButtonEl.classList.remove('colab-df-spinner');\n",
              "      quickchartButtonEl.classList.add('colab-df-quickchart-complete');\n",
              "    }\n",
              "    (() => {\n",
              "      let quickchartButtonEl =\n",
              "        document.querySelector('#df-3140fa49-19e8-401d-8297-f040ce102ffb button');\n",
              "      quickchartButtonEl.style.display =\n",
              "        google.colab.kernel.accessAllowed ? 'block' : 'none';\n",
              "    })();\n",
              "  </script>\n",
              "</div>\n",
              "    </div>\n",
              "  </div>\n"
            ]
          },
          "metadata": {},
          "execution_count": 11
        }
      ]
    },
    {
      "cell_type": "code",
      "source": [
        "# Seleccionar aleatoriamente 70.000 filas de 'train_store_state'\n",
        "train_sample = train_store_state.sample(n=70000)"
      ],
      "metadata": {
        "id": "HOs3fHNRWgjd"
      },
      "execution_count": 12,
      "outputs": []
    },
    {
      "cell_type": "code",
      "source": [
        "train_sample.head(3)"
      ],
      "metadata": {
        "colab": {
          "base_uri": "https://localhost:8080/",
          "height": 143
        },
        "id": "IiViIBkleDO6",
        "outputId": "bf69f092-14a7-42f8-e7e0-9bd8f55d781c"
      },
      "execution_count": 13,
      "outputs": [
        {
          "output_type": "execute_result",
          "data": {
            "text/plain": [
              "                id       date  store_nbr  item_nbr  unit_sales onpromotion\n",
              "31815211  98274119 2016-11-28         31   1458847         1.0       False\n",
              "27505972  93964880 2016-10-15         39   1920284         1.0       False\n",
              "2199601   68658509 2016-01-25         16    977007         2.0       False"
            ],
            "text/html": [
              "\n",
              "  <div id=\"df-98fdd506-ffc2-4492-9d57-2f516fd51971\" class=\"colab-df-container\">\n",
              "    <div>\n",
              "<style scoped>\n",
              "    .dataframe tbody tr th:only-of-type {\n",
              "        vertical-align: middle;\n",
              "    }\n",
              "\n",
              "    .dataframe tbody tr th {\n",
              "        vertical-align: top;\n",
              "    }\n",
              "\n",
              "    .dataframe thead th {\n",
              "        text-align: right;\n",
              "    }\n",
              "</style>\n",
              "<table border=\"1\" class=\"dataframe\">\n",
              "  <thead>\n",
              "    <tr style=\"text-align: right;\">\n",
              "      <th></th>\n",
              "      <th>id</th>\n",
              "      <th>date</th>\n",
              "      <th>store_nbr</th>\n",
              "      <th>item_nbr</th>\n",
              "      <th>unit_sales</th>\n",
              "      <th>onpromotion</th>\n",
              "    </tr>\n",
              "  </thead>\n",
              "  <tbody>\n",
              "    <tr>\n",
              "      <th>31815211</th>\n",
              "      <td>98274119</td>\n",
              "      <td>2016-11-28</td>\n",
              "      <td>31</td>\n",
              "      <td>1458847</td>\n",
              "      <td>1.0</td>\n",
              "      <td>False</td>\n",
              "    </tr>\n",
              "    <tr>\n",
              "      <th>27505972</th>\n",
              "      <td>93964880</td>\n",
              "      <td>2016-10-15</td>\n",
              "      <td>39</td>\n",
              "      <td>1920284</td>\n",
              "      <td>1.0</td>\n",
              "      <td>False</td>\n",
              "    </tr>\n",
              "    <tr>\n",
              "      <th>2199601</th>\n",
              "      <td>68658509</td>\n",
              "      <td>2016-01-25</td>\n",
              "      <td>16</td>\n",
              "      <td>977007</td>\n",
              "      <td>2.0</td>\n",
              "      <td>False</td>\n",
              "    </tr>\n",
              "  </tbody>\n",
              "</table>\n",
              "</div>\n",
              "    <div class=\"colab-df-buttons\">\n",
              "\n",
              "  <div class=\"colab-df-container\">\n",
              "    <button class=\"colab-df-convert\" onclick=\"convertToInteractive('df-98fdd506-ffc2-4492-9d57-2f516fd51971')\"\n",
              "            title=\"Convert this dataframe to an interactive table.\"\n",
              "            style=\"display:none;\">\n",
              "\n",
              "  <svg xmlns=\"http://www.w3.org/2000/svg\" height=\"24px\" viewBox=\"0 -960 960 960\">\n",
              "    <path d=\"M120-120v-720h720v720H120Zm60-500h600v-160H180v160Zm220 220h160v-160H400v160Zm0 220h160v-160H400v160ZM180-400h160v-160H180v160Zm440 0h160v-160H620v160ZM180-180h160v-160H180v160Zm440 0h160v-160H620v160Z\"/>\n",
              "  </svg>\n",
              "    </button>\n",
              "\n",
              "  <style>\n",
              "    .colab-df-container {\n",
              "      display:flex;\n",
              "      gap: 12px;\n",
              "    }\n",
              "\n",
              "    .colab-df-convert {\n",
              "      background-color: #E8F0FE;\n",
              "      border: none;\n",
              "      border-radius: 50%;\n",
              "      cursor: pointer;\n",
              "      display: none;\n",
              "      fill: #1967D2;\n",
              "      height: 32px;\n",
              "      padding: 0 0 0 0;\n",
              "      width: 32px;\n",
              "    }\n",
              "\n",
              "    .colab-df-convert:hover {\n",
              "      background-color: #E2EBFA;\n",
              "      box-shadow: 0px 1px 2px rgba(60, 64, 67, 0.3), 0px 1px 3px 1px rgba(60, 64, 67, 0.15);\n",
              "      fill: #174EA6;\n",
              "    }\n",
              "\n",
              "    .colab-df-buttons div {\n",
              "      margin-bottom: 4px;\n",
              "    }\n",
              "\n",
              "    [theme=dark] .colab-df-convert {\n",
              "      background-color: #3B4455;\n",
              "      fill: #D2E3FC;\n",
              "    }\n",
              "\n",
              "    [theme=dark] .colab-df-convert:hover {\n",
              "      background-color: #434B5C;\n",
              "      box-shadow: 0px 1px 3px 1px rgba(0, 0, 0, 0.15);\n",
              "      filter: drop-shadow(0px 1px 2px rgba(0, 0, 0, 0.3));\n",
              "      fill: #FFFFFF;\n",
              "    }\n",
              "  </style>\n",
              "\n",
              "    <script>\n",
              "      const buttonEl =\n",
              "        document.querySelector('#df-98fdd506-ffc2-4492-9d57-2f516fd51971 button.colab-df-convert');\n",
              "      buttonEl.style.display =\n",
              "        google.colab.kernel.accessAllowed ? 'block' : 'none';\n",
              "\n",
              "      async function convertToInteractive(key) {\n",
              "        const element = document.querySelector('#df-98fdd506-ffc2-4492-9d57-2f516fd51971');\n",
              "        const dataTable =\n",
              "          await google.colab.kernel.invokeFunction('convertToInteractive',\n",
              "                                                    [key], {});\n",
              "        if (!dataTable) return;\n",
              "\n",
              "        const docLinkHtml = 'Like what you see? Visit the ' +\n",
              "          '<a target=\"_blank\" href=https://colab.research.google.com/notebooks/data_table.ipynb>data table notebook</a>'\n",
              "          + ' to learn more about interactive tables.';\n",
              "        element.innerHTML = '';\n",
              "        dataTable['output_type'] = 'display_data';\n",
              "        await google.colab.output.renderOutput(dataTable, element);\n",
              "        const docLink = document.createElement('div');\n",
              "        docLink.innerHTML = docLinkHtml;\n",
              "        element.appendChild(docLink);\n",
              "      }\n",
              "    </script>\n",
              "  </div>\n",
              "\n",
              "\n",
              "<div id=\"df-a18082c1-3d1c-4fda-90e6-5fb14fe31a60\">\n",
              "  <button class=\"colab-df-quickchart\" onclick=\"quickchart('df-a18082c1-3d1c-4fda-90e6-5fb14fe31a60')\"\n",
              "            title=\"Suggest charts.\"\n",
              "            style=\"display:none;\">\n",
              "\n",
              "<svg xmlns=\"http://www.w3.org/2000/svg\" height=\"24px\"viewBox=\"0 0 24 24\"\n",
              "     width=\"24px\">\n",
              "    <g>\n",
              "        <path d=\"M19 3H5c-1.1 0-2 .9-2 2v14c0 1.1.9 2 2 2h14c1.1 0 2-.9 2-2V5c0-1.1-.9-2-2-2zM9 17H7v-7h2v7zm4 0h-2V7h2v10zm4 0h-2v-4h2v4z\"/>\n",
              "    </g>\n",
              "</svg>\n",
              "  </button>\n",
              "\n",
              "<style>\n",
              "  .colab-df-quickchart {\n",
              "      --bg-color: #E8F0FE;\n",
              "      --fill-color: #1967D2;\n",
              "      --hover-bg-color: #E2EBFA;\n",
              "      --hover-fill-color: #174EA6;\n",
              "      --disabled-fill-color: #AAA;\n",
              "      --disabled-bg-color: #DDD;\n",
              "  }\n",
              "\n",
              "  [theme=dark] .colab-df-quickchart {\n",
              "      --bg-color: #3B4455;\n",
              "      --fill-color: #D2E3FC;\n",
              "      --hover-bg-color: #434B5C;\n",
              "      --hover-fill-color: #FFFFFF;\n",
              "      --disabled-bg-color: #3B4455;\n",
              "      --disabled-fill-color: #666;\n",
              "  }\n",
              "\n",
              "  .colab-df-quickchart {\n",
              "    background-color: var(--bg-color);\n",
              "    border: none;\n",
              "    border-radius: 50%;\n",
              "    cursor: pointer;\n",
              "    display: none;\n",
              "    fill: var(--fill-color);\n",
              "    height: 32px;\n",
              "    padding: 0;\n",
              "    width: 32px;\n",
              "  }\n",
              "\n",
              "  .colab-df-quickchart:hover {\n",
              "    background-color: var(--hover-bg-color);\n",
              "    box-shadow: 0 1px 2px rgba(60, 64, 67, 0.3), 0 1px 3px 1px rgba(60, 64, 67, 0.15);\n",
              "    fill: var(--button-hover-fill-color);\n",
              "  }\n",
              "\n",
              "  .colab-df-quickchart-complete:disabled,\n",
              "  .colab-df-quickchart-complete:disabled:hover {\n",
              "    background-color: var(--disabled-bg-color);\n",
              "    fill: var(--disabled-fill-color);\n",
              "    box-shadow: none;\n",
              "  }\n",
              "\n",
              "  .colab-df-spinner {\n",
              "    border: 2px solid var(--fill-color);\n",
              "    border-color: transparent;\n",
              "    border-bottom-color: var(--fill-color);\n",
              "    animation:\n",
              "      spin 1s steps(1) infinite;\n",
              "  }\n",
              "\n",
              "  @keyframes spin {\n",
              "    0% {\n",
              "      border-color: transparent;\n",
              "      border-bottom-color: var(--fill-color);\n",
              "      border-left-color: var(--fill-color);\n",
              "    }\n",
              "    20% {\n",
              "      border-color: transparent;\n",
              "      border-left-color: var(--fill-color);\n",
              "      border-top-color: var(--fill-color);\n",
              "    }\n",
              "    30% {\n",
              "      border-color: transparent;\n",
              "      border-left-color: var(--fill-color);\n",
              "      border-top-color: var(--fill-color);\n",
              "      border-right-color: var(--fill-color);\n",
              "    }\n",
              "    40% {\n",
              "      border-color: transparent;\n",
              "      border-right-color: var(--fill-color);\n",
              "      border-top-color: var(--fill-color);\n",
              "    }\n",
              "    60% {\n",
              "      border-color: transparent;\n",
              "      border-right-color: var(--fill-color);\n",
              "    }\n",
              "    80% {\n",
              "      border-color: transparent;\n",
              "      border-right-color: var(--fill-color);\n",
              "      border-bottom-color: var(--fill-color);\n",
              "    }\n",
              "    90% {\n",
              "      border-color: transparent;\n",
              "      border-bottom-color: var(--fill-color);\n",
              "    }\n",
              "  }\n",
              "</style>\n",
              "\n",
              "  <script>\n",
              "    async function quickchart(key) {\n",
              "      const quickchartButtonEl =\n",
              "        document.querySelector('#' + key + ' button');\n",
              "      quickchartButtonEl.disabled = true;  // To prevent multiple clicks.\n",
              "      quickchartButtonEl.classList.add('colab-df-spinner');\n",
              "      try {\n",
              "        const charts = await google.colab.kernel.invokeFunction(\n",
              "            'suggestCharts', [key], {});\n",
              "      } catch (error) {\n",
              "        console.error('Error during call to suggestCharts:', error);\n",
              "      }\n",
              "      quickchartButtonEl.classList.remove('colab-df-spinner');\n",
              "      quickchartButtonEl.classList.add('colab-df-quickchart-complete');\n",
              "    }\n",
              "    (() => {\n",
              "      let quickchartButtonEl =\n",
              "        document.querySelector('#df-a18082c1-3d1c-4fda-90e6-5fb14fe31a60 button');\n",
              "      quickchartButtonEl.style.display =\n",
              "        google.colab.kernel.accessAllowed ? 'block' : 'none';\n",
              "    })();\n",
              "  </script>\n",
              "</div>\n",
              "    </div>\n",
              "  </div>\n"
            ]
          },
          "metadata": {},
          "execution_count": 13
        }
      ]
    },
    {
      "cell_type": "markdown",
      "source": [
        "## **📄Juntando los demás archivos en train.csv y generando dataframes de prueba y entrenamiento**"
      ],
      "metadata": {
        "id": "hjfgQOiFglzI"
      }
    },
    {
      "cell_type": "markdown",
      "source": [
        "Haré uso de un pipeline utilizando dos clases, una para unir los demás archivos teniendo como base el dataframe de entrenamiento 'train_store_state'"
      ],
      "metadata": {
        "id": "QysB55XYsex7"
      }
    },
    {
      "cell_type": "code",
      "source": [
        "class MergeDataTransformer(BaseEstimator, TransformerMixin):\n",
        "    def __init__(self):\n",
        "        # Constructor de la clase\n",
        "        print(\"Inicializando MergeDataTransformer\")\n",
        "\n",
        "    def fit(self, X, y=None):\n",
        "        return self\n",
        "\n",
        "    def transform(self, X):\n",
        "        # Unir DataFrames\n",
        "        train_stores = X[0].merge(X[1], on='store_nbr')\n",
        "        train_stores_oil = train_stores.merge(X[2], on='date')\n",
        "        train_stores_oil_items = train_stores_oil.merge(X[3], on='item_nbr')\n",
        "        train_stores_oil_items_transactions = train_stores_oil_items.merge(X[4], on=['date', 'store_nbr'])\n",
        "        train_stores_oil_items_transactions_hol = train_stores_oil_items_transactions.merge(X[5], on='date')\n",
        "\n",
        "        # Copiar DataFrame\n",
        "        data = train_stores_oil_items_transactions_hol.copy(deep=True)\n",
        "\n",
        "        # Cambiar booleanos a enteros\n",
        "        data['onpromotion'] = data['onpromotion'].astype(int)\n",
        "        data['transferred'] = data['transferred'].astype(int)\n",
        "\n",
        "        # Cambiar nombres de columnas\n",
        "        data.rename(columns={'type_x': 'st_type', 'type_y': 'hol_type'}, inplace=True)\n",
        "\n",
        "        # Eliminar la columna 'id'\n",
        "        data.drop(['id'], axis=1, inplace=True)\n",
        "\n",
        "        # Mostrar las primeras filas del DataFrame resultante\n",
        "        print(data.head())\n",
        "\n",
        "        # Manipular la columna de fecha\n",
        "        data['date'] = pd.to_datetime(data['date'])\n",
        "        data['date'] = data['date'].map(dt.datetime.toordinal)\n",
        "\n",
        "        return data"
      ],
      "metadata": {
        "id": "xFYQT8yXbu_h"
      },
      "execution_count": 14,
      "outputs": []
    },
    {
      "cell_type": "markdown",
      "source": [
        "Divisor de Datos (SplitDataTransformer) ➗\n",
        "\n",
        "Este transformador personalizado elimina la columna 'date' del conjunto de datos original y divide los datos en tres partes:\n",
        "\n",
        "1. **Datos Numéricos (`data_numeric_df`):** Incluye todas las columnas numéricas del conjunto de datos original.\n",
        "\n",
        "2. **Datos Categóricos (`data_categorical_df`):** Incluye todas las columnas categóricas del conjunto de datos original.\n",
        "\n",
        "3. **Fecha (`data_date_df`):** Incluye la columna 'date' original."
      ],
      "metadata": {
        "id": "ztpn7TbLPLYL"
      }
    },
    {
      "cell_type": "code",
      "source": [
        "class SplitDataTransformer(BaseEstimator, TransformerMixin):\n",
        "    def __init__(self):\n",
        "        # Constructor de la clase\n",
        "        print(\"Inicializando SplitDataTransformer\")\n",
        "\n",
        "    def fit(self, X, y=None):\n",
        "        return self\n",
        "\n",
        "    def transform(self, X):\n",
        "        # Eliminar la columna 'date' del DataFrame original\n",
        "        df_without_date = X.drop(['date'], axis=1)\n",
        "\n",
        "        # Obtener columnas numéricas y categóricas\n",
        "        all_columns = df_without_date.columns\n",
        "        numeric_columns = df_without_date._get_numeric_data().columns\n",
        "        categorical_columns = list(set(all_columns) - set(numeric_columns))\n",
        "\n",
        "        # Crear DataFrames separados para datos numéricos, categóricos y de fecha\n",
        "        data_numeric_df = X[numeric_columns]\n",
        "        data_categorical_df = X[categorical_columns]\n",
        "        data_date_df = X['date']\n",
        "\n",
        "        return data_numeric_df, data_categorical_df, data_date_df"
      ],
      "metadata": {
        "id": "taD-IANHcnsO"
      },
      "execution_count": 15,
      "outputs": []
    },
    {
      "cell_type": "markdown",
      "source": [
        "Procesamiento de Datos (ProcessData) 🛤️\n",
        "\n",
        "Este transformador personalizado realiza el procesamiento de datos, incluyendo:\n",
        "\n",
        "1. **Datos Numéricos (`data_num_df`):**\n",
        "   - Imputa valores nulos en atributos numéricos utilizando la estrategia de la media.\n",
        "   - Aplica escalado estándar a los datos numéricos.\n",
        "\n",
        "2. **Datos Categóricos (`data_cat_df`):**\n",
        "   - Utiliza un codificador one-hot para representar las variables categóricas.\n",
        "   - Convierte la representación codificada a un DataFrame.\n",
        "\n",
        "3. **Fecha (`X[2]`):**\n",
        "   - Mantiene la columna de fechas sin cambios."
      ],
      "metadata": {
        "id": "4Gj6w72zPYii"
      }
    },
    {
      "cell_type": "code",
      "source": [
        "class ProcessData(BaseEstimator, TransformerMixin):\n",
        "    def __init__(self):\n",
        "        print(\"Inicializando ProcessData\")\n",
        "\n",
        "    def fit(self, X, y=None):\n",
        "        return self\n",
        "\n",
        "    def transform(self, X, y=None):\n",
        "        # Datos numéricos\n",
        "        # Imputar valores nulos en atributos numéricos\n",
        "        imputer = SimpleImputer(strategy=\"mean\", copy=True)\n",
        "        num_imputed = imputer.fit_transform(X[0])\n",
        "        data_num_df = pd.DataFrame(num_imputed, columns=X[0].columns, index=X[0].index)\n",
        "\n",
        "        # Aplicar escalado estándar\n",
        "        scaler = StandardScaler()\n",
        "        num_scaled = scaler.fit_transform(data_num_df)\n",
        "        data_num_df = pd.DataFrame(num_scaled, columns=X[0].columns, index=X[0].index)\n",
        "\n",
        "        # Datos categóricos\n",
        "        # One-hot encoder\n",
        "        cat_encoder = OneHotEncoder(sparse=False)\n",
        "        data_cat_1hot = cat_encoder.fit_transform(X[1])\n",
        "\n",
        "        # Convertir a DataFrame con n*99, donde n es el número de filas y 99 es el número de categorías\n",
        "        data_cat_df = pd.DataFrame(data_cat_1hot, columns=cat_encoder.get_feature_names_out(), index=X[1].index)\n",
        "\n",
        "        return data_num_df, data_cat_df, X[2]"
      ],
      "metadata": {
        "id": "ShtQ36XgN-36"
      },
      "execution_count": 16,
      "outputs": []
    },
    {
      "cell_type": "markdown",
      "source": [
        "Unión de DataFrames (JoinDataFrames) 🖇️\n",
        "\n",
        "Este transformador es útil para combinar información de diferentes conjuntos de datos antes de proceder con el análisis o modelado posterior."
      ],
      "metadata": {
        "id": "JHdFIrWKPxRn"
      }
    },
    {
      "cell_type": "code",
      "source": [
        "class JoinDataFrames(BaseEstimator, TransformerMixin):\n",
        "    def __init__(self):\n",
        "        print(\"Inicializando JoinDataFrames\")\n",
        "\n",
        "    def fit(self, X, y=None):\n",
        "        return self\n",
        "\n",
        "    def transform(self, X, y=None):\n",
        "        # Unir DataFrames numéricos\n",
        "        data_df = X[0].join(X[1])\n",
        "        data_df = data_df.join(X[2])\n",
        "\n",
        "        return data_df"
      ],
      "metadata": {
        "id": "AQh0nGvpOU2U"
      },
      "execution_count": 17,
      "outputs": []
    },
    {
      "cell_type": "markdown",
      "source": [
        "Pipeline de Procesamiento de Datos 🔩\n",
        "\n",
        "1. **Preparar Datos (`MergeDataTransformer`):**\n",
        "   - Realiza las primeras manipulaciones de los datos.\n",
        "\n",
        "2. **Dividir Datos (`SplitDataTransformer`):**\n",
        "   - Separa los datos en categorías numéricas, categóricas y de fecha.\n",
        "\n",
        "3. **Procesar Datos (`ProcessData`):**\n",
        "   - Imputa valores nulos y aplica escalado a datos numéricos.\n",
        "   - Codifica variables categóricas utilizando one-hot encoding.\n",
        "\n",
        "4. **Unir Datos (`JoinDataFrames`):**\n",
        "   - Combina DataFrames numéricos en uno solo.\n"
      ],
      "metadata": {
        "id": "TuU5X-iSQC1L"
      }
    },
    {
      "cell_type": "code",
      "source": [
        "# Definir la pipeline\n",
        "pipeline = Pipeline([\n",
        "    ('merge_data', MergeDataTransformer()),\n",
        "    ('split_data', SplitDataTransformer()),\n",
        "    ('process_data', ProcessData()),\n",
        "    ('join_data', JoinDataFrames())\n",
        "])"
      ],
      "metadata": {
        "colab": {
          "base_uri": "https://localhost:8080/"
        },
        "id": "C8WuYuSvOnEO",
        "outputId": "b84f5fa4-7540-4930-99fd-affed1d4c4ff"
      },
      "execution_count": 18,
      "outputs": [
        {
          "output_type": "stream",
          "name": "stdout",
          "text": [
            "Inicializando MergeDataTransformer\n",
            "Inicializando SplitDataTransformer\n",
            "Inicializando ProcessData\n",
            "Inicializando JoinDataFrames\n"
          ]
        }
      ]
    },
    {
      "cell_type": "markdown",
      "source": [
        "Aplicar Pipeline y Dividir Datos ✅"
      ],
      "metadata": {
        "id": "pQqctBnmQU0j"
      }
    },
    {
      "cell_type": "code",
      "source": [
        "# Aplicar la pipeline para transformar los datos\n",
        "data_df = pipeline.fit_transform([train_sample, stores, oil, items, transactions, holidays_e])\n",
        "\n",
        "# Dividir los datos según características\n",
        "X = data_df.drop(['unit_sales', 'transactions'], axis=1)\n",
        "Y = data_df[['unit_sales', 'transactions']]"
      ],
      "metadata": {
        "colab": {
          "base_uri": "https://localhost:8080/"
        },
        "id": "RVOxfwIZOuq-",
        "outputId": "676feeab-f533-4a4f-e53b-088ee694bc9b"
      },
      "execution_count": 19,
      "outputs": [
        {
          "output_type": "stream",
          "name": "stdout",
          "text": [
            "        date  store_nbr  item_nbr  unit_sales  onpromotion      city  \\\n",
            "0 2016-11-28         31   1458847         1.0            0  Babahoyo   \n",
            "1 2016-11-28         31   1085686         5.0            0  Babahoyo   \n",
            "2 2016-11-28         31   1932492         1.0            0  Babahoyo   \n",
            "3 2016-11-28         31    557257         1.0            1  Babahoyo   \n",
            "4 2016-11-28         39   2027827         1.0            0    Cuenca   \n",
            "\n",
            "      state st_type  cluster  dcoilwtico     family  class  perishable  \\\n",
            "0  Los Rios       B       10       45.66      DAIRY   2166           1   \n",
            "1  Los Rios       B       10       45.66   CLEANING   3040           0   \n",
            "2  Los Rios       B       10       45.66  BEVERAGES   1122           0   \n",
            "3  Los Rios       B       10       45.66       EGGS   2502           1   \n",
            "4     Azuay       B        6       45.66      DAIRY   2166           1   \n",
            "\n",
            "   transactions hol_type    locale locale_name   description  transferred  \n",
            "0          1188    Event  National     Ecuador  Cyber Monday            0  \n",
            "1          1188    Event  National     Ecuador  Cyber Monday            0  \n",
            "2          1188    Event  National     Ecuador  Cyber Monday            0  \n",
            "3          1188    Event  National     Ecuador  Cyber Monday            0  \n",
            "4          1218    Event  National     Ecuador  Cyber Monday            0  \n"
          ]
        },
        {
          "output_type": "stream",
          "name": "stderr",
          "text": [
            "/usr/local/lib/python3.10/dist-packages/sklearn/preprocessing/_encoders.py:868: FutureWarning: `sparse` was renamed to `sparse_output` in version 1.2 and will be removed in 1.4. `sparse_output` is ignored unless you leave `sparse` to its default value.\n",
            "  warnings.warn(\n"
          ]
        }
      ]
    },
    {
      "cell_type": "code",
      "source": [
        "x_train, x_test, y_train, y_test = train_test_split(X, Y, test_size=0.3, random_state=0)"
      ],
      "metadata": {
        "id": "Z6TJ-mgkfPkE"
      },
      "execution_count": 20,
      "outputs": []
    },
    {
      "cell_type": "code",
      "source": [
        "y_train.head(8)"
      ],
      "metadata": {
        "colab": {
          "base_uri": "https://localhost:8080/",
          "height": 300
        },
        "id": "1MDvj3VJBdaa",
        "outputId": "df17f114-a481-49e9-8397-93b6126ec793"
      },
      "execution_count": 58,
      "outputs": [
        {
          "output_type": "execute_result",
          "data": {
            "text/plain": [
              "       unit_sales  transactions\n",
              "7181     0.385960     -0.616539\n",
              "9207    -0.129510      1.014860\n",
              "3828    -0.276787     -0.021977\n",
              "1168    -0.276787      0.002645\n",
              "7261    -0.055871     -0.279134\n",
              "9665    -0.203148      1.915822\n",
              "10468   -0.166329      0.632771\n",
              "5832    -0.276787      0.055535"
            ],
            "text/html": [
              "\n",
              "  <div id=\"df-d869b0d0-3607-417d-b086-da031d26e92e\" class=\"colab-df-container\">\n",
              "    <div>\n",
              "<style scoped>\n",
              "    .dataframe tbody tr th:only-of-type {\n",
              "        vertical-align: middle;\n",
              "    }\n",
              "\n",
              "    .dataframe tbody tr th {\n",
              "        vertical-align: top;\n",
              "    }\n",
              "\n",
              "    .dataframe thead th {\n",
              "        text-align: right;\n",
              "    }\n",
              "</style>\n",
              "<table border=\"1\" class=\"dataframe\">\n",
              "  <thead>\n",
              "    <tr style=\"text-align: right;\">\n",
              "      <th></th>\n",
              "      <th>unit_sales</th>\n",
              "      <th>transactions</th>\n",
              "    </tr>\n",
              "  </thead>\n",
              "  <tbody>\n",
              "    <tr>\n",
              "      <th>7181</th>\n",
              "      <td>0.385960</td>\n",
              "      <td>-0.616539</td>\n",
              "    </tr>\n",
              "    <tr>\n",
              "      <th>9207</th>\n",
              "      <td>-0.129510</td>\n",
              "      <td>1.014860</td>\n",
              "    </tr>\n",
              "    <tr>\n",
              "      <th>3828</th>\n",
              "      <td>-0.276787</td>\n",
              "      <td>-0.021977</td>\n",
              "    </tr>\n",
              "    <tr>\n",
              "      <th>1168</th>\n",
              "      <td>-0.276787</td>\n",
              "      <td>0.002645</td>\n",
              "    </tr>\n",
              "    <tr>\n",
              "      <th>7261</th>\n",
              "      <td>-0.055871</td>\n",
              "      <td>-0.279134</td>\n",
              "    </tr>\n",
              "    <tr>\n",
              "      <th>9665</th>\n",
              "      <td>-0.203148</td>\n",
              "      <td>1.915822</td>\n",
              "    </tr>\n",
              "    <tr>\n",
              "      <th>10468</th>\n",
              "      <td>-0.166329</td>\n",
              "      <td>0.632771</td>\n",
              "    </tr>\n",
              "    <tr>\n",
              "      <th>5832</th>\n",
              "      <td>-0.276787</td>\n",
              "      <td>0.055535</td>\n",
              "    </tr>\n",
              "  </tbody>\n",
              "</table>\n",
              "</div>\n",
              "    <div class=\"colab-df-buttons\">\n",
              "\n",
              "  <div class=\"colab-df-container\">\n",
              "    <button class=\"colab-df-convert\" onclick=\"convertToInteractive('df-d869b0d0-3607-417d-b086-da031d26e92e')\"\n",
              "            title=\"Convert this dataframe to an interactive table.\"\n",
              "            style=\"display:none;\">\n",
              "\n",
              "  <svg xmlns=\"http://www.w3.org/2000/svg\" height=\"24px\" viewBox=\"0 -960 960 960\">\n",
              "    <path d=\"M120-120v-720h720v720H120Zm60-500h600v-160H180v160Zm220 220h160v-160H400v160Zm0 220h160v-160H400v160ZM180-400h160v-160H180v160Zm440 0h160v-160H620v160ZM180-180h160v-160H180v160Zm440 0h160v-160H620v160Z\"/>\n",
              "  </svg>\n",
              "    </button>\n",
              "\n",
              "  <style>\n",
              "    .colab-df-container {\n",
              "      display:flex;\n",
              "      gap: 12px;\n",
              "    }\n",
              "\n",
              "    .colab-df-convert {\n",
              "      background-color: #E8F0FE;\n",
              "      border: none;\n",
              "      border-radius: 50%;\n",
              "      cursor: pointer;\n",
              "      display: none;\n",
              "      fill: #1967D2;\n",
              "      height: 32px;\n",
              "      padding: 0 0 0 0;\n",
              "      width: 32px;\n",
              "    }\n",
              "\n",
              "    .colab-df-convert:hover {\n",
              "      background-color: #E2EBFA;\n",
              "      box-shadow: 0px 1px 2px rgba(60, 64, 67, 0.3), 0px 1px 3px 1px rgba(60, 64, 67, 0.15);\n",
              "      fill: #174EA6;\n",
              "    }\n",
              "\n",
              "    .colab-df-buttons div {\n",
              "      margin-bottom: 4px;\n",
              "    }\n",
              "\n",
              "    [theme=dark] .colab-df-convert {\n",
              "      background-color: #3B4455;\n",
              "      fill: #D2E3FC;\n",
              "    }\n",
              "\n",
              "    [theme=dark] .colab-df-convert:hover {\n",
              "      background-color: #434B5C;\n",
              "      box-shadow: 0px 1px 3px 1px rgba(0, 0, 0, 0.15);\n",
              "      filter: drop-shadow(0px 1px 2px rgba(0, 0, 0, 0.3));\n",
              "      fill: #FFFFFF;\n",
              "    }\n",
              "  </style>\n",
              "\n",
              "    <script>\n",
              "      const buttonEl =\n",
              "        document.querySelector('#df-d869b0d0-3607-417d-b086-da031d26e92e button.colab-df-convert');\n",
              "      buttonEl.style.display =\n",
              "        google.colab.kernel.accessAllowed ? 'block' : 'none';\n",
              "\n",
              "      async function convertToInteractive(key) {\n",
              "        const element = document.querySelector('#df-d869b0d0-3607-417d-b086-da031d26e92e');\n",
              "        const dataTable =\n",
              "          await google.colab.kernel.invokeFunction('convertToInteractive',\n",
              "                                                    [key], {});\n",
              "        if (!dataTable) return;\n",
              "\n",
              "        const docLinkHtml = 'Like what you see? Visit the ' +\n",
              "          '<a target=\"_blank\" href=https://colab.research.google.com/notebooks/data_table.ipynb>data table notebook</a>'\n",
              "          + ' to learn more about interactive tables.';\n",
              "        element.innerHTML = '';\n",
              "        dataTable['output_type'] = 'display_data';\n",
              "        await google.colab.output.renderOutput(dataTable, element);\n",
              "        const docLink = document.createElement('div');\n",
              "        docLink.innerHTML = docLinkHtml;\n",
              "        element.appendChild(docLink);\n",
              "      }\n",
              "    </script>\n",
              "  </div>\n",
              "\n",
              "\n",
              "<div id=\"df-1f3cad9e-2feb-4233-9129-27b69864162e\">\n",
              "  <button class=\"colab-df-quickchart\" onclick=\"quickchart('df-1f3cad9e-2feb-4233-9129-27b69864162e')\"\n",
              "            title=\"Suggest charts.\"\n",
              "            style=\"display:none;\">\n",
              "\n",
              "<svg xmlns=\"http://www.w3.org/2000/svg\" height=\"24px\"viewBox=\"0 0 24 24\"\n",
              "     width=\"24px\">\n",
              "    <g>\n",
              "        <path d=\"M19 3H5c-1.1 0-2 .9-2 2v14c0 1.1.9 2 2 2h14c1.1 0 2-.9 2-2V5c0-1.1-.9-2-2-2zM9 17H7v-7h2v7zm4 0h-2V7h2v10zm4 0h-2v-4h2v4z\"/>\n",
              "    </g>\n",
              "</svg>\n",
              "  </button>\n",
              "\n",
              "<style>\n",
              "  .colab-df-quickchart {\n",
              "      --bg-color: #E8F0FE;\n",
              "      --fill-color: #1967D2;\n",
              "      --hover-bg-color: #E2EBFA;\n",
              "      --hover-fill-color: #174EA6;\n",
              "      --disabled-fill-color: #AAA;\n",
              "      --disabled-bg-color: #DDD;\n",
              "  }\n",
              "\n",
              "  [theme=dark] .colab-df-quickchart {\n",
              "      --bg-color: #3B4455;\n",
              "      --fill-color: #D2E3FC;\n",
              "      --hover-bg-color: #434B5C;\n",
              "      --hover-fill-color: #FFFFFF;\n",
              "      --disabled-bg-color: #3B4455;\n",
              "      --disabled-fill-color: #666;\n",
              "  }\n",
              "\n",
              "  .colab-df-quickchart {\n",
              "    background-color: var(--bg-color);\n",
              "    border: none;\n",
              "    border-radius: 50%;\n",
              "    cursor: pointer;\n",
              "    display: none;\n",
              "    fill: var(--fill-color);\n",
              "    height: 32px;\n",
              "    padding: 0;\n",
              "    width: 32px;\n",
              "  }\n",
              "\n",
              "  .colab-df-quickchart:hover {\n",
              "    background-color: var(--hover-bg-color);\n",
              "    box-shadow: 0 1px 2px rgba(60, 64, 67, 0.3), 0 1px 3px 1px rgba(60, 64, 67, 0.15);\n",
              "    fill: var(--button-hover-fill-color);\n",
              "  }\n",
              "\n",
              "  .colab-df-quickchart-complete:disabled,\n",
              "  .colab-df-quickchart-complete:disabled:hover {\n",
              "    background-color: var(--disabled-bg-color);\n",
              "    fill: var(--disabled-fill-color);\n",
              "    box-shadow: none;\n",
              "  }\n",
              "\n",
              "  .colab-df-spinner {\n",
              "    border: 2px solid var(--fill-color);\n",
              "    border-color: transparent;\n",
              "    border-bottom-color: var(--fill-color);\n",
              "    animation:\n",
              "      spin 1s steps(1) infinite;\n",
              "  }\n",
              "\n",
              "  @keyframes spin {\n",
              "    0% {\n",
              "      border-color: transparent;\n",
              "      border-bottom-color: var(--fill-color);\n",
              "      border-left-color: var(--fill-color);\n",
              "    }\n",
              "    20% {\n",
              "      border-color: transparent;\n",
              "      border-left-color: var(--fill-color);\n",
              "      border-top-color: var(--fill-color);\n",
              "    }\n",
              "    30% {\n",
              "      border-color: transparent;\n",
              "      border-left-color: var(--fill-color);\n",
              "      border-top-color: var(--fill-color);\n",
              "      border-right-color: var(--fill-color);\n",
              "    }\n",
              "    40% {\n",
              "      border-color: transparent;\n",
              "      border-right-color: var(--fill-color);\n",
              "      border-top-color: var(--fill-color);\n",
              "    }\n",
              "    60% {\n",
              "      border-color: transparent;\n",
              "      border-right-color: var(--fill-color);\n",
              "    }\n",
              "    80% {\n",
              "      border-color: transparent;\n",
              "      border-right-color: var(--fill-color);\n",
              "      border-bottom-color: var(--fill-color);\n",
              "    }\n",
              "    90% {\n",
              "      border-color: transparent;\n",
              "      border-bottom-color: var(--fill-color);\n",
              "    }\n",
              "  }\n",
              "</style>\n",
              "\n",
              "  <script>\n",
              "    async function quickchart(key) {\n",
              "      const quickchartButtonEl =\n",
              "        document.querySelector('#' + key + ' button');\n",
              "      quickchartButtonEl.disabled = true;  // To prevent multiple clicks.\n",
              "      quickchartButtonEl.classList.add('colab-df-spinner');\n",
              "      try {\n",
              "        const charts = await google.colab.kernel.invokeFunction(\n",
              "            'suggestCharts', [key], {});\n",
              "      } catch (error) {\n",
              "        console.error('Error during call to suggestCharts:', error);\n",
              "      }\n",
              "      quickchartButtonEl.classList.remove('colab-df-spinner');\n",
              "      quickchartButtonEl.classList.add('colab-df-quickchart-complete');\n",
              "    }\n",
              "    (() => {\n",
              "      let quickchartButtonEl =\n",
              "        document.querySelector('#df-1f3cad9e-2feb-4233-9129-27b69864162e button');\n",
              "      quickchartButtonEl.style.display =\n",
              "        google.colab.kernel.accessAllowed ? 'block' : 'none';\n",
              "    })();\n",
              "  </script>\n",
              "</div>\n",
              "    </div>\n",
              "  </div>\n"
            ]
          },
          "metadata": {},
          "execution_count": 58
        }
      ]
    },
    {
      "cell_type": "markdown",
      "source": [
        "## **🔎Utilizando algunos modelos para hacer las primeras predicciones**"
      ],
      "metadata": {
        "id": "8zQGzQW5Xz3n"
      }
    },
    {
      "cell_type": "markdown",
      "source": [
        "Función que evalua el rendimiento utilizando los estadisticos (MAE, MSE) tanto para los datos de entrenamiento como para los de prueba"
      ],
      "metadata": {
        "id": "7Nb_lKThT5FS"
      }
    },
    {
      "cell_type": "code",
      "source": [
        "def checkModelPerformance(model):\n",
        "    model.fit(x_train.values, y_train.values)\n",
        "\n",
        "    pred = model.predict(x_test.values)\n",
        "\n",
        "    print(\"Media cuadrada del error: \", np.sqrt(mean_squared_error(y_test.values, pred)))\n",
        "    print(\"Media absoluta del error: \", np.sqrt(mean_absolute_error(y_test.values, pred)))"
      ],
      "metadata": {
        "id": "-ak81fCVw_fV"
      },
      "execution_count": 21,
      "outputs": []
    },
    {
      "cell_type": "code",
      "source": [
        "print(\"LinearRegression\")\n",
        "checkModelPerformance(LinearRegression())"
      ],
      "metadata": {
        "colab": {
          "base_uri": "https://localhost:8080/"
        },
        "id": "fEbHg2oghXtc",
        "outputId": "e4812169-e48e-45ee-d0ab-4b729b18205c"
      },
      "execution_count": 22,
      "outputs": [
        {
          "output_type": "stream",
          "name": "stdout",
          "text": [
            "LinearRegression\n",
            "Media cuadrada del error:  1026788.2252218189\n",
            "Media absoluta del error:  157.87691737257336\n"
          ]
        }
      ]
    },
    {
      "cell_type": "code",
      "source": [
        "print(\"Lasso\")\n",
        "checkModelPerformance(Lasso(alpha=0.1))"
      ],
      "metadata": {
        "colab": {
          "base_uri": "https://localhost:8080/"
        },
        "id": "YVU45DFfiGe4",
        "outputId": "5f2a3809-9ba6-41e6-e809-df6ee290af41"
      },
      "execution_count": 23,
      "outputs": [
        {
          "output_type": "stream",
          "name": "stdout",
          "text": [
            "Lasso\n",
            "Media cuadrada del error:  0.6401247774163764\n",
            "Media absoluta del error:  0.6224353517781456\n"
          ]
        }
      ]
    },
    {
      "cell_type": "code",
      "source": [
        "print(\"ElasticNet\")\n",
        "checkModelPerformance(ElasticNet())"
      ],
      "metadata": {
        "colab": {
          "base_uri": "https://localhost:8080/"
        },
        "id": "KDlUvI9_h9MX",
        "outputId": "79787455-537c-459b-d2f9-171231d457c7"
      },
      "execution_count": 24,
      "outputs": [
        {
          "output_type": "stream",
          "name": "stdout",
          "text": [
            "ElasticNet\n",
            "Media cuadrada del error:  0.8103722383719023\n",
            "Media absoluta del error:  0.7187680751386157\n"
          ]
        }
      ]
    },
    {
      "cell_type": "code",
      "source": [
        "print(\"Ridge\")\n",
        "checkModelPerformance(Ridge(alpha=1.0))"
      ],
      "metadata": {
        "colab": {
          "base_uri": "https://localhost:8080/"
        },
        "id": "AkULy7GLiR5K",
        "outputId": "9d7dddef-c413-46c2-a70d-9a861d08fad9"
      },
      "execution_count": 25,
      "outputs": [
        {
          "output_type": "stream",
          "name": "stdout",
          "text": [
            "Ridge\n",
            "Media cuadrada del error:  0.5274963790387254\n",
            "Media absoluta del error:  0.5553622672267451\n"
          ]
        }
      ]
    },
    {
      "cell_type": "code",
      "source": [
        "print(\"Random Forest\")\n",
        "checkModelPerformance(RandomForestRegressor(random_state=42))"
      ],
      "metadata": {
        "colab": {
          "base_uri": "https://localhost:8080/"
        },
        "id": "ByyiPtzZiXTN",
        "outputId": "16f6d085-9c60-4e54-a094-c7ac0b9c4285"
      },
      "execution_count": 26,
      "outputs": [
        {
          "output_type": "stream",
          "name": "stdout",
          "text": [
            "Random Forest\n",
            "Media cuadrada del error:  0.46603143568746175\n",
            "Media absoluta del error:  0.4191897183858527\n"
          ]
        }
      ]
    },
    {
      "cell_type": "markdown",
      "source": [
        "👀 Sé que en el anterior notebook el modelo que era mejor en este proyecto era ElasticNet pero con las mejoras aplicadas a los algoritmos lo es RandomForest que tiene la MAE menor."
      ],
      "metadata": {
        "id": "6GOsbZL8iolN"
      }
    },
    {
      "cell_type": "markdown",
      "source": [
        "## **🧾Metrica de evaluación**"
      ],
      "metadata": {
        "id": "Jt7_CWFroGRA"
      }
    },
    {
      "cell_type": "markdown",
      "source": [
        "Los pesos, $w_i$, se pueden encontrar en el archivo items.csv (consultar la página de Datos). Los artículos perecederos tienen un peso de 1.25, mientras que todos los demás artículos tienen un peso de 1.00."
      ],
      "metadata": {
        "id": "itclO7IBU2DN"
      }
    },
    {
      "cell_type": "markdown",
      "source": [
        "Quiero utilizar la métrica de evaluación para saber cual es el rendimiento de los diferentes modelos que estoy probando."
      ],
      "metadata": {
        "id": "mOK7KmNuTv2z"
      }
    },
    {
      "cell_type": "code",
      "source": [
        "def calculate_nwrmsle(y_true, y_pred, weights_dict):\n",
        "    # y_pred es un 2D array quiero seleccionar la primera columna\n",
        "    y_pred_log = np.log1p(y_pred[:, 0])\n",
        "\n",
        "    # Aplicar logaritmo natural a los valores reales\n",
        "    y_true_log = np.log1p(y_true)\n",
        "\n",
        "    # Calcular el error cuadrático medio ponderado\n",
        "    squared_errors = (y_true_log - y_pred_log) ** 2\n",
        "\n",
        "    # Utilizar solo la columna de 'unit_sales' para weights_dict\n",
        "    weighted_squared_errors = [squared_errors[i] * weights_dict[item_nbr] for i, item_nbr in enumerate(weights_dict)]\n",
        "\n",
        "    # Calcular la métrica NWRMSLE\n",
        "    nwrmsle = np.sqrt(np.sum(weighted_squared_errors) / len(y_true))\n",
        "\n",
        "    return nwrmsle"
      ],
      "metadata": {
        "id": "x2zrDXADBNg-"
      },
      "execution_count": 27,
      "outputs": []
    },
    {
      "cell_type": "code",
      "source": [
        "# Lista de modelos\n",
        "modelos = [\n",
        "    LinearRegression(),\n",
        "    Lasso(alpha=0.1),\n",
        "    ElasticNet(),\n",
        "    Ridge(alpha=1.0),\n",
        "    RandomForestRegressor(random_state=42)\n",
        "]\n",
        "\n",
        "# Entrenar y evaluar cada modelo\n",
        "for modelo in modelos:\n",
        "    # Entrenar el modelo\n",
        "    modelo.fit(x_train, y_train)\n",
        "\n",
        "    # Hacer predicciones\n",
        "    y_pred = modelo.predict(x_test.values)\n",
        "\n",
        "    # Calcular NWRMSLE\n",
        "    weights_dict = {item_nbr: 1.25 if perishable == 1 else 1.00 for item_nbr, perishable in zip(x_test['item_nbr'], x_test['perishable'])}\n",
        "    nwrmsle = calculate_nwrmsle(y_test['unit_sales'].values, y_pred, weights_dict)\n",
        "\n",
        "    # Imprimir nombre del modelo y NWRMSLE\n",
        "    print(f\"{type(modelo).__name__}: NWRMSLE = {nwrmsle}\\n\")"
      ],
      "metadata": {
        "id": "UZimvVH_ZkhT",
        "colab": {
          "base_uri": "https://localhost:8080/"
        },
        "outputId": "9b0b3a5d-0db7-4500-e53f-0859e7937dc0"
      },
      "execution_count": 28,
      "outputs": [
        {
          "output_type": "stream",
          "name": "stdout",
          "text": [
            "LinearRegression: NWRMSLE = nan\n",
            "\n"
          ]
        },
        {
          "output_type": "stream",
          "name": "stderr",
          "text": [
            "/usr/local/lib/python3.10/dist-packages/sklearn/base.py:439: UserWarning: X does not have valid feature names, but LinearRegression was fitted with feature names\n",
            "  warnings.warn(\n",
            "<ipython-input-27-4360e56cb060>:3: RuntimeWarning: invalid value encountered in log1p\n",
            "  y_pred_log = np.log1p(y_pred[:, 0])\n",
            "/usr/local/lib/python3.10/dist-packages/sklearn/base.py:439: UserWarning: X does not have valid feature names, but Lasso was fitted with feature names\n",
            "  warnings.warn(\n",
            "/usr/local/lib/python3.10/dist-packages/sklearn/base.py:439: UserWarning: X does not have valid feature names, but ElasticNet was fitted with feature names\n",
            "  warnings.warn(\n"
          ]
        },
        {
          "output_type": "stream",
          "name": "stdout",
          "text": [
            "Lasso: NWRMSLE = 0.25297074571145894\n",
            "\n",
            "ElasticNet: NWRMSLE = 0.25281192870060676\n",
            "\n",
            "Ridge: NWRMSLE = 0.2634715835336895\n",
            "\n"
          ]
        },
        {
          "output_type": "stream",
          "name": "stderr",
          "text": [
            "/usr/local/lib/python3.10/dist-packages/sklearn/base.py:439: UserWarning: X does not have valid feature names, but Ridge was fitted with feature names\n",
            "  warnings.warn(\n"
          ]
        },
        {
          "output_type": "stream",
          "name": "stdout",
          "text": [
            "RandomForestRegressor: NWRMSLE = 0.2687959683202358\n",
            "\n"
          ]
        },
        {
          "output_type": "stream",
          "name": "stderr",
          "text": [
            "/usr/local/lib/python3.10/dist-packages/sklearn/base.py:439: UserWarning: X does not have valid feature names, but RandomForestRegressor was fitted with feature names\n",
            "  warnings.warn(\n"
          ]
        }
      ]
    },
    {
      "cell_type": "markdown",
      "source": [
        "## **⚒️Refinando modelo**"
      ],
      "metadata": {
        "id": "I9rCGFHDqBGU"
      }
    },
    {
      "cell_type": "markdown",
      "source": [
        "### Optimización de Hiperparámetros con RandomForestRegressor ⚙️\n",
        "\n",
        "En este código, se utiliza `RandomForestRegressor` junto con `GridSearchCV` para encontrar los mejores hiperparámetros para el modelo. `RandomForestRegressor` es un algoritmo que utiliza múltiples árboles de decisión para hacer predicciones.\n",
        "\n",
        "La métrica utilizada para evaluar el rendimiento del modelo es el error cuadrático medio negativo (`neg_mean_squared_error`). La búsqueda en la cuadrícula se realiza mediante validación cruzada con 5 divisiones (`cv=5`)."
      ],
      "metadata": {
        "id": "QocziwGBqn-H"
      }
    },
    {
      "cell_type": "code",
      "source": [
        "# Crear un RandomForestRegressor con un estado aleatorio fijo para reproducibilidad\n",
        "forest_reg = RandomForestRegressor(random_state=42)\n",
        "\n",
        "# Definir los parámetros que deseas probar\n",
        "param_grid = [\n",
        "    {'n_estimators': [3, 10, 30], 'max_features': [2, 4, 6, 8]},  # Primer conjunto de hiperparámetros\n",
        "    {'bootstrap': [False], 'n_estimators': [3, 10], 'max_features': [2, 3, 4]},  # Segundo conjunto de hiperparámetros\n",
        "]\n",
        "\n",
        "# Crear un objeto GridSearchCV\n",
        "grid_search = GridSearchCV(\n",
        "    forest_reg,  # El modelo a utilizar\n",
        "    param_grid,  # La cuadrícula de parámetros a probar\n",
        "    cv=5,  # Número de divisiones en la validación cruzada (k-fold)\n",
        "    scoring='neg_mean_squared_error',  # Métrica a optimizar\n",
        "    return_train_score=True  # Devolver puntajes de entrenamiento además de puntajes de prueba\n",
        ")\n",
        "\n",
        "# Entrenar el modelo con todas las combinaciones de hiperparámetros\n",
        "grid_search.fit(x_train.values, y_train.values)\n",
        "\n",
        "# Mostrar los resultados del GridSearchCV\n",
        "print(grid_search)"
      ],
      "metadata": {
        "colab": {
          "base_uri": "https://localhost:8080/"
        },
        "id": "DuPBBdEgqF9b",
        "outputId": "f019d594-2918-4852-adbc-b601bbe2ba11"
      },
      "execution_count": 29,
      "outputs": [
        {
          "output_type": "stream",
          "name": "stdout",
          "text": [
            "GridSearchCV(cv=5, estimator=RandomForestRegressor(random_state=42),\n",
            "             param_grid=[{'max_features': [2, 4, 6, 8],\n",
            "                          'n_estimators': [3, 10, 30]},\n",
            "                         {'bootstrap': [False], 'max_features': [2, 3, 4],\n",
            "                          'n_estimators': [3, 10]}],\n",
            "             return_train_score=True, scoring='neg_mean_squared_error')\n"
          ]
        }
      ]
    },
    {
      "cell_type": "code",
      "source": [
        "grid_search.best_params_"
      ],
      "metadata": {
        "colab": {
          "base_uri": "https://localhost:8080/"
        },
        "id": "4ChhwC2KrOF0",
        "outputId": "da3a8547-34dd-4c83-f3b7-31827586e562"
      },
      "execution_count": 30,
      "outputs": [
        {
          "output_type": "execute_result",
          "data": {
            "text/plain": [
              "{'max_features': 8, 'n_estimators': 30}"
            ]
          },
          "metadata": {},
          "execution_count": 30
        }
      ]
    },
    {
      "cell_type": "code",
      "source": [
        "grid_search.best_estimator_"
      ],
      "metadata": {
        "colab": {
          "base_uri": "https://localhost:8080/",
          "height": 75
        },
        "id": "13rFLiO_rSEr",
        "outputId": "0989fb3b-0dcc-4860-b045-6769ffc274a1"
      },
      "execution_count": 31,
      "outputs": [
        {
          "output_type": "execute_result",
          "data": {
            "text/plain": [
              "RandomForestRegressor(max_features=8, n_estimators=30, random_state=42)"
            ],
            "text/html": [
              "<style>#sk-container-id-1 {color: black;background-color: white;}#sk-container-id-1 pre{padding: 0;}#sk-container-id-1 div.sk-toggleable {background-color: white;}#sk-container-id-1 label.sk-toggleable__label {cursor: pointer;display: block;width: 100%;margin-bottom: 0;padding: 0.3em;box-sizing: border-box;text-align: center;}#sk-container-id-1 label.sk-toggleable__label-arrow:before {content: \"▸\";float: left;margin-right: 0.25em;color: #696969;}#sk-container-id-1 label.sk-toggleable__label-arrow:hover:before {color: black;}#sk-container-id-1 div.sk-estimator:hover label.sk-toggleable__label-arrow:before {color: black;}#sk-container-id-1 div.sk-toggleable__content {max-height: 0;max-width: 0;overflow: hidden;text-align: left;background-color: #f0f8ff;}#sk-container-id-1 div.sk-toggleable__content pre {margin: 0.2em;color: black;border-radius: 0.25em;background-color: #f0f8ff;}#sk-container-id-1 input.sk-toggleable__control:checked~div.sk-toggleable__content {max-height: 200px;max-width: 100%;overflow: auto;}#sk-container-id-1 input.sk-toggleable__control:checked~label.sk-toggleable__label-arrow:before {content: \"▾\";}#sk-container-id-1 div.sk-estimator input.sk-toggleable__control:checked~label.sk-toggleable__label {background-color: #d4ebff;}#sk-container-id-1 div.sk-label input.sk-toggleable__control:checked~label.sk-toggleable__label {background-color: #d4ebff;}#sk-container-id-1 input.sk-hidden--visually {border: 0;clip: rect(1px 1px 1px 1px);clip: rect(1px, 1px, 1px, 1px);height: 1px;margin: -1px;overflow: hidden;padding: 0;position: absolute;width: 1px;}#sk-container-id-1 div.sk-estimator {font-family: monospace;background-color: #f0f8ff;border: 1px dotted black;border-radius: 0.25em;box-sizing: border-box;margin-bottom: 0.5em;}#sk-container-id-1 div.sk-estimator:hover {background-color: #d4ebff;}#sk-container-id-1 div.sk-parallel-item::after {content: \"\";width: 100%;border-bottom: 1px solid gray;flex-grow: 1;}#sk-container-id-1 div.sk-label:hover label.sk-toggleable__label {background-color: #d4ebff;}#sk-container-id-1 div.sk-serial::before {content: \"\";position: absolute;border-left: 1px solid gray;box-sizing: border-box;top: 0;bottom: 0;left: 50%;z-index: 0;}#sk-container-id-1 div.sk-serial {display: flex;flex-direction: column;align-items: center;background-color: white;padding-right: 0.2em;padding-left: 0.2em;position: relative;}#sk-container-id-1 div.sk-item {position: relative;z-index: 1;}#sk-container-id-1 div.sk-parallel {display: flex;align-items: stretch;justify-content: center;background-color: white;position: relative;}#sk-container-id-1 div.sk-item::before, #sk-container-id-1 div.sk-parallel-item::before {content: \"\";position: absolute;border-left: 1px solid gray;box-sizing: border-box;top: 0;bottom: 0;left: 50%;z-index: -1;}#sk-container-id-1 div.sk-parallel-item {display: flex;flex-direction: column;z-index: 1;position: relative;background-color: white;}#sk-container-id-1 div.sk-parallel-item:first-child::after {align-self: flex-end;width: 50%;}#sk-container-id-1 div.sk-parallel-item:last-child::after {align-self: flex-start;width: 50%;}#sk-container-id-1 div.sk-parallel-item:only-child::after {width: 0;}#sk-container-id-1 div.sk-dashed-wrapped {border: 1px dashed gray;margin: 0 0.4em 0.5em 0.4em;box-sizing: border-box;padding-bottom: 0.4em;background-color: white;}#sk-container-id-1 div.sk-label label {font-family: monospace;font-weight: bold;display: inline-block;line-height: 1.2em;}#sk-container-id-1 div.sk-label-container {text-align: center;}#sk-container-id-1 div.sk-container {/* jupyter's `normalize.less` sets `[hidden] { display: none; }` but bootstrap.min.css set `[hidden] { display: none !important; }` so we also need the `!important` here to be able to override the default hidden behavior on the sphinx rendered scikit-learn.org. See: https://github.com/scikit-learn/scikit-learn/issues/21755 */display: inline-block !important;position: relative;}#sk-container-id-1 div.sk-text-repr-fallback {display: none;}</style><div id=\"sk-container-id-1\" class=\"sk-top-container\"><div class=\"sk-text-repr-fallback\"><pre>RandomForestRegressor(max_features=8, n_estimators=30, random_state=42)</pre><b>In a Jupyter environment, please rerun this cell to show the HTML representation or trust the notebook. <br />On GitHub, the HTML representation is unable to render, please try loading this page with nbviewer.org.</b></div><div class=\"sk-container\" hidden><div class=\"sk-item\"><div class=\"sk-estimator sk-toggleable\"><input class=\"sk-toggleable__control sk-hidden--visually\" id=\"sk-estimator-id-1\" type=\"checkbox\" checked><label for=\"sk-estimator-id-1\" class=\"sk-toggleable__label sk-toggleable__label-arrow\">RandomForestRegressor</label><div class=\"sk-toggleable__content\"><pre>RandomForestRegressor(max_features=8, n_estimators=30, random_state=42)</pre></div></div></div></div></div>"
            ]
          },
          "metadata": {},
          "execution_count": 31
        }
      ]
    },
    {
      "cell_type": "markdown",
      "source": [
        "La búsqueda en la cuadrícula (`GridSearchCV`) se realiza sobre dos conjuntos de hiperparámetros diferentes. En el primer conjunto, se exploran combinaciones de `n_estimators` (número de árboles) y `max_features` (número máximo de características consideradas para dividir un nodo). En el segundo conjunto, se prueba desactivar el muestreo de bootstrap (`bootstrap: [False]`) junto con diferentes valores de `n_estimators` y `max_features`.\n"
      ],
      "metadata": {
        "id": "CigBW7Z4q69I"
      }
    },
    {
      "cell_type": "markdown",
      "source": [
        "## **Iteraciones con el modelo**"
      ],
      "metadata": {
        "id": "xgpCLCbQsSuN"
      }
    },
    {
      "cell_type": "code",
      "source": [
        "productos = train_sample['item_nbr'].unique()\n",
        "productos"
      ],
      "metadata": {
        "colab": {
          "base_uri": "https://localhost:8080/"
        },
        "id": "krTERkLysSGk",
        "outputId": "7568efff-46f3-4d20-9944-bb4018c93cd8"
      },
      "execution_count": 48,
      "outputs": [
        {
          "output_type": "execute_result",
          "data": {
            "text/plain": [
              "array([1458847, 1920284,  977007, ..., 1986524, 1985099, 1449487])"
            ]
          },
          "metadata": {},
          "execution_count": 48
        }
      ]
    },
    {
      "cell_type": "code",
      "source": [
        "stores.city = stores.city.apply(lambda x: 1 if (x == 'Guayaquil' or x == 'Quito') else 0)\n",
        "stores.drop(columns=['state', 'type', 'cluster'], inplace= True)\n",
        "\n",
        "holidays_e.drop(columns = ['locale_name', 'description', 'transferred'], inplace = True)"
      ],
      "metadata": {
        "id": "2tYJKrL8HiAM"
      },
      "execution_count": null,
      "outputs": []
    },
    {
      "cell_type": "code",
      "source": [
        "class merge_data(BaseEstimator, TransformerMixin):\n",
        "    def __init__(self):\n",
        "        print(\"merge_data -> init\")\n",
        "\n",
        "    def fit(self, X, y=None):\n",
        "        return self\n",
        "\n",
        "    def transform(self, X):\n",
        "        pre_data = pd.merge(pd.merge(pd.merge(X, stores, on='store_nbr', how='left'), oil, on='date', how='left'), holidays_e, on='date', how='left')\n",
        "        pre_data = pre_data.sort_values('date')\n",
        "\n",
        "        pre_data.dcoilwtico = pre_data.dcoilwtico.fillna(method='bfill', axis=0).fillna(0)\n",
        "        pre_data.type = pre_data.type.fillna('Normal')\n",
        "        pre_data.locale = pre_data.locale.fillna('Normal')\n",
        "\n",
        "        encoder = OneHotEncoder()\n",
        "        categorical_cols = ['store_nbr', 'item_nbr', 'onpromotion', 'city', 'type', 'locale']\n",
        "\n",
        "        encoder.fit(pre_data[categorical_cols])\n",
        "        encoded_cols = encoder.transform(pre_data[categorical_cols]).toarray()\n",
        "        encoded_df = pd.DataFrame(encoded_cols, columns=encoder.get_feature_names_out(categorical_cols))\n",
        "\n",
        "        pre_data = pd.concat([pre_data.drop(columns=categorical_cols), encoded_df], axis=1)\n",
        "        data = pre_data.reset_index().drop(columns='index')\n",
        "\n",
        "        return data"
      ],
      "metadata": {
        "id": "WmFxxnEIHj2s"
      },
      "execution_count": 69,
      "outputs": []
    },
    {
      "cell_type": "code",
      "source": [
        "class split_data(BaseEstimator, TransformerMixin):\n",
        "    def __init__(self):\n",
        "        print(\"split_data -> init\")\n",
        "\n",
        "    def fit(self, X, y=None):\n",
        "        return self\n",
        "\n",
        "    def transform(self, X):\n",
        "\n",
        "        y = X.pop('unit_sales')\n",
        "        X = X\n",
        "\n",
        "        X_train, X_test, y_train, y_test = train_test_split(X, y, test_size=0.1)\n",
        "\n",
        "        X_train = X_train.set_index('date')\n",
        "        X_test = X_test.set_index('date')\n",
        "\n",
        "        return X_train, X_test, y_train, y_test"
      ],
      "metadata": {
        "id": "Di6ViXKKHnRi"
      },
      "execution_count": 70,
      "outputs": []
    },
    {
      "cell_type": "code",
      "source": [
        "pipeline_prueba = Pipeline([\n",
        "    ('merge_data', merge_data()),\n",
        "    ('split_data', split_data())\n",
        "])"
      ],
      "metadata": {
        "id": "S6W50-tJHorr"
      },
      "execution_count": null,
      "outputs": []
    },
    {
      "cell_type": "code",
      "source": [
        "productos = train_sample['item_nbr'].unique()\n",
        "lista = list()\n",
        "for i in productos:\n",
        "\n",
        "    try:\n",
        "\n",
        "        X_train, X_test, y_train, y_test = pipeline_prueba.fit_transform(train_sample[train_sample.item_nbr == i])\n",
        "\n",
        "        forest_reg.fit(X_train.values, y_train.values);\n",
        "\n",
        "        prediction =  forest_reg.predict(X_train)\n",
        "\n",
        "        lista.append([i, prediction[0]])\n",
        "\n",
        "    except:\n",
        "        lista.append([i, 0.0])"
      ],
      "metadata": {
        "id": "dWu6ZtUKHtDB"
      },
      "execution_count": null,
      "outputs": []
    },
    {
      "cell_type": "code",
      "source": [
        "result = pd.DataFrame(lista, columns=['id', 'unit_sales'])\n",
        "# Ordenar el DataFrame por la columna 'unit_sales' de forma descendente\n",
        "result = result.sort_values('unit_sales', ascending=False)\n",
        "\n",
        "result"
      ],
      "metadata": {
        "colab": {
          "base_uri": "https://localhost:8080/",
          "height": 424
        },
        "id": "tR0H8F0ZH4sv",
        "outputId": "dbf9c6c3-f6fc-492c-d5d9-51003e0123d7"
      },
      "execution_count": 73,
      "outputs": [
        {
          "output_type": "execute_result",
          "data": {
            "text/plain": [
              "           id  unit_sales\n",
              "949   1464210   481.55000\n",
              "1024  1473474   190.93573\n",
              "516    507969   128.14979\n",
              "1847  1584575   122.27000\n",
              "2839  1392260   118.00000\n",
              "...       ...         ...\n",
              "3504  2011216     0.00000\n",
              "3682  1391408     0.00000\n",
              "1536  2045637     0.00000\n",
              "3680  2045373     0.00000\n",
              "3762  1449487     0.00000\n",
              "\n",
              "[3763 rows x 2 columns]"
            ],
            "text/html": [
              "\n",
              "  <div id=\"df-a859c28e-f4f2-45b3-a373-23ee1447417f\" class=\"colab-df-container\">\n",
              "    <div>\n",
              "<style scoped>\n",
              "    .dataframe tbody tr th:only-of-type {\n",
              "        vertical-align: middle;\n",
              "    }\n",
              "\n",
              "    .dataframe tbody tr th {\n",
              "        vertical-align: top;\n",
              "    }\n",
              "\n",
              "    .dataframe thead th {\n",
              "        text-align: right;\n",
              "    }\n",
              "</style>\n",
              "<table border=\"1\" class=\"dataframe\">\n",
              "  <thead>\n",
              "    <tr style=\"text-align: right;\">\n",
              "      <th></th>\n",
              "      <th>id</th>\n",
              "      <th>unit_sales</th>\n",
              "    </tr>\n",
              "  </thead>\n",
              "  <tbody>\n",
              "    <tr>\n",
              "      <th>949</th>\n",
              "      <td>1464210</td>\n",
              "      <td>481.55000</td>\n",
              "    </tr>\n",
              "    <tr>\n",
              "      <th>1024</th>\n",
              "      <td>1473474</td>\n",
              "      <td>190.93573</td>\n",
              "    </tr>\n",
              "    <tr>\n",
              "      <th>516</th>\n",
              "      <td>507969</td>\n",
              "      <td>128.14979</td>\n",
              "    </tr>\n",
              "    <tr>\n",
              "      <th>1847</th>\n",
              "      <td>1584575</td>\n",
              "      <td>122.27000</td>\n",
              "    </tr>\n",
              "    <tr>\n",
              "      <th>2839</th>\n",
              "      <td>1392260</td>\n",
              "      <td>118.00000</td>\n",
              "    </tr>\n",
              "    <tr>\n",
              "      <th>...</th>\n",
              "      <td>...</td>\n",
              "      <td>...</td>\n",
              "    </tr>\n",
              "    <tr>\n",
              "      <th>3504</th>\n",
              "      <td>2011216</td>\n",
              "      <td>0.00000</td>\n",
              "    </tr>\n",
              "    <tr>\n",
              "      <th>3682</th>\n",
              "      <td>1391408</td>\n",
              "      <td>0.00000</td>\n",
              "    </tr>\n",
              "    <tr>\n",
              "      <th>1536</th>\n",
              "      <td>2045637</td>\n",
              "      <td>0.00000</td>\n",
              "    </tr>\n",
              "    <tr>\n",
              "      <th>3680</th>\n",
              "      <td>2045373</td>\n",
              "      <td>0.00000</td>\n",
              "    </tr>\n",
              "    <tr>\n",
              "      <th>3762</th>\n",
              "      <td>1449487</td>\n",
              "      <td>0.00000</td>\n",
              "    </tr>\n",
              "  </tbody>\n",
              "</table>\n",
              "<p>3763 rows × 2 columns</p>\n",
              "</div>\n",
              "    <div class=\"colab-df-buttons\">\n",
              "\n",
              "  <div class=\"colab-df-container\">\n",
              "    <button class=\"colab-df-convert\" onclick=\"convertToInteractive('df-a859c28e-f4f2-45b3-a373-23ee1447417f')\"\n",
              "            title=\"Convert this dataframe to an interactive table.\"\n",
              "            style=\"display:none;\">\n",
              "\n",
              "  <svg xmlns=\"http://www.w3.org/2000/svg\" height=\"24px\" viewBox=\"0 -960 960 960\">\n",
              "    <path d=\"M120-120v-720h720v720H120Zm60-500h600v-160H180v160Zm220 220h160v-160H400v160Zm0 220h160v-160H400v160ZM180-400h160v-160H180v160Zm440 0h160v-160H620v160ZM180-180h160v-160H180v160Zm440 0h160v-160H620v160Z\"/>\n",
              "  </svg>\n",
              "    </button>\n",
              "\n",
              "  <style>\n",
              "    .colab-df-container {\n",
              "      display:flex;\n",
              "      gap: 12px;\n",
              "    }\n",
              "\n",
              "    .colab-df-convert {\n",
              "      background-color: #E8F0FE;\n",
              "      border: none;\n",
              "      border-radius: 50%;\n",
              "      cursor: pointer;\n",
              "      display: none;\n",
              "      fill: #1967D2;\n",
              "      height: 32px;\n",
              "      padding: 0 0 0 0;\n",
              "      width: 32px;\n",
              "    }\n",
              "\n",
              "    .colab-df-convert:hover {\n",
              "      background-color: #E2EBFA;\n",
              "      box-shadow: 0px 1px 2px rgba(60, 64, 67, 0.3), 0px 1px 3px 1px rgba(60, 64, 67, 0.15);\n",
              "      fill: #174EA6;\n",
              "    }\n",
              "\n",
              "    .colab-df-buttons div {\n",
              "      margin-bottom: 4px;\n",
              "    }\n",
              "\n",
              "    [theme=dark] .colab-df-convert {\n",
              "      background-color: #3B4455;\n",
              "      fill: #D2E3FC;\n",
              "    }\n",
              "\n",
              "    [theme=dark] .colab-df-convert:hover {\n",
              "      background-color: #434B5C;\n",
              "      box-shadow: 0px 1px 3px 1px rgba(0, 0, 0, 0.15);\n",
              "      filter: drop-shadow(0px 1px 2px rgba(0, 0, 0, 0.3));\n",
              "      fill: #FFFFFF;\n",
              "    }\n",
              "  </style>\n",
              "\n",
              "    <script>\n",
              "      const buttonEl =\n",
              "        document.querySelector('#df-a859c28e-f4f2-45b3-a373-23ee1447417f button.colab-df-convert');\n",
              "      buttonEl.style.display =\n",
              "        google.colab.kernel.accessAllowed ? 'block' : 'none';\n",
              "\n",
              "      async function convertToInteractive(key) {\n",
              "        const element = document.querySelector('#df-a859c28e-f4f2-45b3-a373-23ee1447417f');\n",
              "        const dataTable =\n",
              "          await google.colab.kernel.invokeFunction('convertToInteractive',\n",
              "                                                    [key], {});\n",
              "        if (!dataTable) return;\n",
              "\n",
              "        const docLinkHtml = 'Like what you see? Visit the ' +\n",
              "          '<a target=\"_blank\" href=https://colab.research.google.com/notebooks/data_table.ipynb>data table notebook</a>'\n",
              "          + ' to learn more about interactive tables.';\n",
              "        element.innerHTML = '';\n",
              "        dataTable['output_type'] = 'display_data';\n",
              "        await google.colab.output.renderOutput(dataTable, element);\n",
              "        const docLink = document.createElement('div');\n",
              "        docLink.innerHTML = docLinkHtml;\n",
              "        element.appendChild(docLink);\n",
              "      }\n",
              "    </script>\n",
              "  </div>\n",
              "\n",
              "\n",
              "<div id=\"df-9335be6d-4cfd-46b5-a5ba-49f298e91a22\">\n",
              "  <button class=\"colab-df-quickchart\" onclick=\"quickchart('df-9335be6d-4cfd-46b5-a5ba-49f298e91a22')\"\n",
              "            title=\"Suggest charts.\"\n",
              "            style=\"display:none;\">\n",
              "\n",
              "<svg xmlns=\"http://www.w3.org/2000/svg\" height=\"24px\"viewBox=\"0 0 24 24\"\n",
              "     width=\"24px\">\n",
              "    <g>\n",
              "        <path d=\"M19 3H5c-1.1 0-2 .9-2 2v14c0 1.1.9 2 2 2h14c1.1 0 2-.9 2-2V5c0-1.1-.9-2-2-2zM9 17H7v-7h2v7zm4 0h-2V7h2v10zm4 0h-2v-4h2v4z\"/>\n",
              "    </g>\n",
              "</svg>\n",
              "  </button>\n",
              "\n",
              "<style>\n",
              "  .colab-df-quickchart {\n",
              "      --bg-color: #E8F0FE;\n",
              "      --fill-color: #1967D2;\n",
              "      --hover-bg-color: #E2EBFA;\n",
              "      --hover-fill-color: #174EA6;\n",
              "      --disabled-fill-color: #AAA;\n",
              "      --disabled-bg-color: #DDD;\n",
              "  }\n",
              "\n",
              "  [theme=dark] .colab-df-quickchart {\n",
              "      --bg-color: #3B4455;\n",
              "      --fill-color: #D2E3FC;\n",
              "      --hover-bg-color: #434B5C;\n",
              "      --hover-fill-color: #FFFFFF;\n",
              "      --disabled-bg-color: #3B4455;\n",
              "      --disabled-fill-color: #666;\n",
              "  }\n",
              "\n",
              "  .colab-df-quickchart {\n",
              "    background-color: var(--bg-color);\n",
              "    border: none;\n",
              "    border-radius: 50%;\n",
              "    cursor: pointer;\n",
              "    display: none;\n",
              "    fill: var(--fill-color);\n",
              "    height: 32px;\n",
              "    padding: 0;\n",
              "    width: 32px;\n",
              "  }\n",
              "\n",
              "  .colab-df-quickchart:hover {\n",
              "    background-color: var(--hover-bg-color);\n",
              "    box-shadow: 0 1px 2px rgba(60, 64, 67, 0.3), 0 1px 3px 1px rgba(60, 64, 67, 0.15);\n",
              "    fill: var(--button-hover-fill-color);\n",
              "  }\n",
              "\n",
              "  .colab-df-quickchart-complete:disabled,\n",
              "  .colab-df-quickchart-complete:disabled:hover {\n",
              "    background-color: var(--disabled-bg-color);\n",
              "    fill: var(--disabled-fill-color);\n",
              "    box-shadow: none;\n",
              "  }\n",
              "\n",
              "  .colab-df-spinner {\n",
              "    border: 2px solid var(--fill-color);\n",
              "    border-color: transparent;\n",
              "    border-bottom-color: var(--fill-color);\n",
              "    animation:\n",
              "      spin 1s steps(1) infinite;\n",
              "  }\n",
              "\n",
              "  @keyframes spin {\n",
              "    0% {\n",
              "      border-color: transparent;\n",
              "      border-bottom-color: var(--fill-color);\n",
              "      border-left-color: var(--fill-color);\n",
              "    }\n",
              "    20% {\n",
              "      border-color: transparent;\n",
              "      border-left-color: var(--fill-color);\n",
              "      border-top-color: var(--fill-color);\n",
              "    }\n",
              "    30% {\n",
              "      border-color: transparent;\n",
              "      border-left-color: var(--fill-color);\n",
              "      border-top-color: var(--fill-color);\n",
              "      border-right-color: var(--fill-color);\n",
              "    }\n",
              "    40% {\n",
              "      border-color: transparent;\n",
              "      border-right-color: var(--fill-color);\n",
              "      border-top-color: var(--fill-color);\n",
              "    }\n",
              "    60% {\n",
              "      border-color: transparent;\n",
              "      border-right-color: var(--fill-color);\n",
              "    }\n",
              "    80% {\n",
              "      border-color: transparent;\n",
              "      border-right-color: var(--fill-color);\n",
              "      border-bottom-color: var(--fill-color);\n",
              "    }\n",
              "    90% {\n",
              "      border-color: transparent;\n",
              "      border-bottom-color: var(--fill-color);\n",
              "    }\n",
              "  }\n",
              "</style>\n",
              "\n",
              "  <script>\n",
              "    async function quickchart(key) {\n",
              "      const quickchartButtonEl =\n",
              "        document.querySelector('#' + key + ' button');\n",
              "      quickchartButtonEl.disabled = true;  // To prevent multiple clicks.\n",
              "      quickchartButtonEl.classList.add('colab-df-spinner');\n",
              "      try {\n",
              "        const charts = await google.colab.kernel.invokeFunction(\n",
              "            'suggestCharts', [key], {});\n",
              "      } catch (error) {\n",
              "        console.error('Error during call to suggestCharts:', error);\n",
              "      }\n",
              "      quickchartButtonEl.classList.remove('colab-df-spinner');\n",
              "      quickchartButtonEl.classList.add('colab-df-quickchart-complete');\n",
              "    }\n",
              "    (() => {\n",
              "      let quickchartButtonEl =\n",
              "        document.querySelector('#df-9335be6d-4cfd-46b5-a5ba-49f298e91a22 button');\n",
              "      quickchartButtonEl.style.display =\n",
              "        google.colab.kernel.accessAllowed ? 'block' : 'none';\n",
              "    })();\n",
              "  </script>\n",
              "</div>\n",
              "    </div>\n",
              "  </div>\n"
            ]
          },
          "metadata": {},
          "execution_count": 73
        }
      ]
    }
  ]
}